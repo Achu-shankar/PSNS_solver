{
 "cells": [
  {
   "cell_type": "code",
   "execution_count": 2,
   "metadata": {},
   "outputs": [
    {
     "name": "stdout",
     "output_type": "stream",
     "text": [
      "The autoreload extension is already loaded. To reload it, use:\n",
      "  %reload_ext autoreload\n"
     ]
    }
   ],
   "source": [
    "%load_ext autoreload\n",
    "%autoreload 2\n",
    "from matplotlib.pyplot import colorbar\n",
    "from PSNS_2D import *\n",
    "from PSNS_Callbacks import CallbackVars, Callbacks,computeKE,vortexPairCenter,vortexPairRadius,areaIntegral,vortexPairCenterVortCentroid\n",
    "from numpy import pi, cos, sin,exp\n",
    "import pickle\n",
    "from numpy import savetxt\n",
    "import pandas as pd\n",
    "from scipy.special import jv\n",
    "import pickle\n",
    "import matplotlib as mpl"
   ]
  },
  {
   "cell_type": "code",
   "execution_count": 3,
   "metadata": {},
   "outputs": [],
   "source": [
    "def window_fn(SV):\n",
    "    X = SV.Mesh[0]\n",
    "    Y = SV.Mesh[1]\n",
    "    xl = SV.xR[0]\n",
    "    xr = SV.xR[1]\n",
    "    yl = SV.yR[0]\n",
    "    yr = SV.yR[1]\n",
    "    \n",
    "    a = 1.05\n",
    "    n = 27\n",
    "    \n",
    "    wx = 10**(-a**n*np.abs(2*(X-xl)/(xr-xl)-1)**n)\n",
    "    wy = 10**(-a**n*np.abs(2*(Y-yl)/(yr-yl)-1)**n)\n",
    "    w = wx*wy\n",
    "    SV.U = SV.U*w\n",
    "    \n",
    "# def initial_condition(SV):\n",
    "#     X   = SV.Mesh\n",
    "#     xp  = X[0]\n",
    "#     yp  = X[1]\n",
    "#     sl  = SV.Lx\n",
    "#     a_sq = 0.2**2\n",
    "# #     Xc = np.array([sl*0.5])\n",
    "# #     Yc = np.array([sl*0.5])\n",
    "# #     Gam = np.array([1])\n",
    "    \n",
    "# #     Xc = np.array([sl*0.5,sl*0.5+sl,sl*0.5-sl,sl*0.5,sl*0.5])\n",
    "# #     Yc = np.array([sl*0.5,sl*0.5,sl*0.5,sl*0.5+sl,sl*0.5-sl])\n",
    "# #     Gam = np.array([1,1,1,1,1])\n",
    "    \n",
    "# #     Xc = np.array([3,9])\n",
    "# #     Yc = np.array([sl*0.5,sl*0.5])\n",
    "# #     Gam = np.array([1,1])\n",
    "    \n",
    "# #     Xc = np.array([sl*0.5+0.5,sl*0.5-0.5,\\\n",
    "# #                    sl*0.5+0.5,sl*0.5-0.5,\\\n",
    "# #                    sl*0.5+0.5,sl*0.5-0.5,\\\n",
    "# #                    sl*0.5+0.5+sl,sl*0.5-0.5+sl,\\\n",
    "# #                    sl*0.5+0.5-sl,sl*0.5-0.5-sl])\n",
    "    \n",
    "# #     Yc = np.array([sl*0.5,sl*0.5,\\\n",
    "# #                    sl*0.5+sl,sl*0.5+sl,\\\n",
    "# #                    sl*0.5-sl,sl*0.5-sl,\\\n",
    "# #                    sl*0.5,sl*0.5,\\\n",
    "# #                    sl*0.5,sl*0.5])\n",
    "    \n",
    "# #     Gam = np.array([1,-1,\\\n",
    "# #                     1,-1,\\\n",
    "# #                     1,-1,\\\n",
    "# #                     1,-1,\\\n",
    "# #                     1,-1])\n",
    "        \n",
    "#     def LO_vel(x_c,y_c,gam,xp,yp,a_sq):\n",
    "#         x  =  np.copy(xp) - x_c\n",
    "#         y  =  np.copy(yp) - y_c\n",
    "        \n",
    "#         r_sq = np.square(x) + np.square(y) + 1e-16\n",
    "#         u = -gam*y*(1-exp(-r_sq/a_sq))/r_sq\n",
    "#         v =  gam*x*(1-exp(-r_sq/a_sq))/r_sq\n",
    "# #         u=0\n",
    "\n",
    "#         return u,v\n",
    "    \n",
    "#     for xc,yc,gam in zip(Xc,Yc,Gam):\n",
    "#         u,v    = LO_vel(xc,yc,gam,xp,yp,a_sq)\n",
    "#         SV.U[0] += u\n",
    "#         SV.U[1] += v\n",
    "#         %matplotlib inline\n",
    "#         print('was here')\n",
    "# #         plt.plot(v[:,512])\n",
    "# #         plt.show()\n",
    "#         print(v[0,512],v[-1,512])\n",
    "#         print(SV.U[1,0,512],SV.U[1,-1,512])\n",
    "        \n",
    "# #     SV.U[1]  += (1-exp(-1/a_sq))\n",
    "    \n",
    "def initial_condition(SV):\n",
    "    X = SV.Mesh\n",
    "    sL = SV.Lx\n",
    "    xc1 = 0.5\n",
    "    xc2 = -0.5\n",
    "    a_sq = 0.067**2\n",
    "    x1    = (X[0]-0.5*sL - xc1)\n",
    "    x2    = (X[0]-0.5*sL - xc2)\n",
    "    \n",
    "    y1    =  X[1] - 0.5*sL\n",
    "    y2    =  X[1] - 0.5*sL\n",
    "    r_sq1 = np.square(x1) + np.square(y1) + 1e-16\n",
    "    r_sq2 = np.square(x2) + np.square(y2) + 1e-16\n",
    "        \n",
    "\n",
    "\n",
    "#     SV.U[0]  = -(y1*(1-exp(-r_sq1/a_sq))/r_sq1)\n",
    "#     SV.U[1]  =  (x1*(1-exp(-r_sq1/a_sq))/r_sq1) \n",
    "    SV.U[0]  = -(y1*(1-exp(-r_sq1/a_sq))/r_sq1 - y2*(1-exp(-r_sq2/a_sq))/r_sq2)\n",
    "    SV.U[1]  =  (x1*(1-exp(-r_sq1/a_sq))/r_sq1 - x2*(1-exp(-r_sq2/a_sq))/r_sq2) \n",
    "#     window_fn(SV)\n",
    "    SV.U[1]  += (1-exp(-1/a_sq))\n",
    "    \n",
    "\n",
    "def initial_conditionScullyVP(SV):\n",
    "    X = SV.Mesh\n",
    "    sL = SV.Lx\n",
    "    xc1 =  0.5\n",
    "    xc2 = -0.5\n",
    "    a_sq = 0.07**2\n",
    "    x1    = (X[0]-0.5*sL - xc1)\n",
    "    x2    = (X[0]-0.5*sL - xc2)\n",
    "    y1    =  X[1] - 0.5*sL\n",
    "    y2    =  X[1] - 0.5*sL\n",
    "    r_sq1 = np.square(x1) + np.square(y1) \n",
    "    r_sq2 = np.square(x2) + np.square(y2) \n",
    "\n",
    "    SV.U[0]  = -(y1/(a_sq + r_sq1) - y2/(a_sq + r_sq2))\n",
    "    SV.U[1]  =  (x1/(a_sq + r_sq1) - x2/(a_sq + r_sq2)) + 1/(1+a_sq)\n",
    "\n",
    "def initial_conditionRankineVP(SV):\n",
    "    X  = SV.Mesh\n",
    "    sL = SV.Lx\n",
    "    xc1 =  0.5\n",
    "    xc2 = -0.5\n",
    "    R_sq = 2*0.067**2\n",
    "    x1    = (X[0]-0.5*sL - xc1)\n",
    "    x2    = (X[0]-0.5*sL - xc2)\n",
    "    y1    =  X[1] - 0.5*sL\n",
    "    y2    =  X[1] - 0.5*sL\n",
    "    r_sq1 = np.square(x1) + np.square(y1) + 1e-7\n",
    "    r_sq2 = np.square(x2) + np.square(y2) + 1e-7\n",
    "\n",
    "\n",
    "    SV.U[0] = -((y1/R_sq)*(r_sq1<=R_sq) +  (y1/r_sq1)*(r_sq1>R_sq)) + ((y2/R_sq)*(r_sq2<=R_sq) +  (y2/r_sq2)*(r_sq2>R_sq))   \n",
    "    SV.U[1] =  ((x1/R_sq)*(r_sq1<=R_sq) +  (x1/r_sq1)*(r_sq1>R_sq)) - ((x2/R_sq)*(r_sq2<=R_sq) +  (x2/r_sq2)*(r_sq2>R_sq))\n",
    "#     window_fn(SV)\n",
    "    SV.U[1] += 1\n",
    "\n",
    "def initial_condition_2DTGV(SV):\n",
    "    X = SV.Mesh\n",
    "    sL = SV.Lx\n",
    "    SV.U[0] = 1.0 + 2.0*sin(2*pi*X[0]/sL)*cos(2*pi*X[1]/sL)\n",
    "    SV.U[1] = 1.0 - 2.0*cos(2*pi*X[0]/sL)*sin(2*pi*X[1]/sL)\n",
    "\n",
    "def LC_initial_condition(SV):\n",
    "    U = 1\n",
    "    R = 1\n",
    "    mu_1 = 3.83170597020751\n",
    "    \n",
    "    X = SV.Mesh\n",
    "    sL= SV.Lx\n",
    "    # print(sL)\n",
    "    x = X[0] - 0.5*sL\n",
    "    y = X[1] - 0.5*sL\n",
    "    r = np.sqrt(np.square(x)+np.square(y)) + 1e-6\n",
    "    cos_theta = x/r\n",
    "    A = 2*U*R/(mu_1*jv(0,mu_1))\n",
    "    B = mu_1*r/R\n",
    "    S = -A*jv(1,B)*cos_theta*(r<=R) - (r>R)*U*r*(1-(R/r)**2)*cos_theta \n",
    "    \n",
    "    Sf = rfft2(S)\n",
    "    # SV.U[0]  =   irfft2(1j*SV.K[1]*Sf)\n",
    "    # SV.U[1]  =  -irfft2(1j*SV.K[0]*Sf) \n",
    "    \n",
    "    SV.U[0]  =  np.gradient(S,SV.dy,axis=1)\n",
    "    SV.U[1]  = -np.gradient(S,SV.dx,axis=0)\n",
    "    \n",
    "    # print(S.shape)\n",
    "    return irfft2(Sf*SV.K_sq)\n",
    "\n",
    "def vortex_pair_data_extractor(SV,filename):\n",
    "\n",
    "    # only going to save the data for right vortex \n",
    "    # Nt = -1\n",
    "    # Ut = SV.Ut[:,:,:,Nt]\n",
    "    # Uf = rfft2(Ut)\n",
    "    Xc,Xc_ind = vortexPairCenter(SV.Uf,SV)  # SV.Uf has the value for last time step\n",
    "    xc = Xc[0,1]\n",
    "    yc = Xc[1,1]\n",
    "    xc_ind = Xc_ind[0,1]\n",
    "    yc_ind = Xc_ind[1,1]\n",
    "\n",
    "    xc_middle_plane = 0.5*(Xc[0,0]+Xc[0,1])\n",
    "    padx = 2\n",
    "    pady = 2\n",
    "\n",
    "    # size of box center around the middle plane of the pair\n",
    "    box_w = 2  # in length units \n",
    "    box_h = 4   # in length units\n",
    "    box_w_ind = int(box_w/SV.dx)\n",
    "    box_h_ind = int(box_h/SV.dy)\n",
    "\n",
    "    x_ind1 = int(xc_ind - int(0.5*np.abs(Xc[0,0]-Xc[0,1])/SV.dx) - padx)\n",
    "    x_ind2 = int(x_ind1 + box_w_ind   + padx)\n",
    "    y_ind1 = int(yc_ind - box_h_ind/2 - pady)\n",
    "    y_ind2 = int(yc_ind + box_h_ind/2 + pady)\n",
    "\n",
    "    U = irfft2(SV.Uf)\n",
    "    # xc_ind,yc_ind =int(CBV.vortex_pair_cent_ind[0,0,-1]),int(CBV.vortex_pair_cent_ind[1,0,-1])\n",
    "    # vel = SV.U[1,xc_ind,yc_ind]\n",
    "\n",
    "    U_extract    = np.copy(U[:,x_ind1:x_ind2,y_ind1:y_ind2])\n",
    "    # U_extract[1] = U_extract[1] - vel\n",
    "\n",
    "    Mesh_extract = np.copy(SV.Mesh[:,x_ind1:x_ind2,y_ind1:y_ind2])\n",
    "    Mesh_extract[0] = Mesh_extract[0] - xc_middle_plane\n",
    "    Mesh_extract[1] = Mesh_extract[1] - yc\n",
    "\n",
    "    dudx, dudy, dvdx, dvdy = velGradient(SV.Uf,SV)\n",
    "    dudx_e, dudy_e, dvdx_e, dvdy_e = dudx[x_ind1:x_ind2,y_ind1:y_ind2].flatten(), \\\n",
    "                                     dudy[x_ind1:x_ind2,y_ind1:y_ind2].flatten(), \\\n",
    "                                     dvdx[x_ind1:x_ind2,y_ind1:y_ind2].flatten(), \\\n",
    "                                     dvdy[x_ind1:x_ind2,y_ind1:y_ind2].flatten()\n",
    "\n",
    "    fig, ax = plt.subplots()\n",
    "    ax.set_aspect('equal')\n",
    "    s_x = np.linspace(0,1,10)\n",
    "    s_y = np.zeros(s_x.shape)\n",
    "    start_points = np.array((s_x,s_y)).T\n",
    "    print(start_points.shape)\n",
    "    plt.streamplot(Mesh_extract[0].T,Mesh_extract[1].T, U_extract[0].T, U_extract[1].T,\\\n",
    "     density=[20,20],color='k',start_points=start_points,minlength=0.1)\n",
    "    plt.contourf(Mesh_extract[0],Mesh_extract[1],U_extract[0],levels = 30)\n",
    "    plt.colorbar()\n",
    "    plt.show()\n",
    "\n",
    "    x = Mesh_extract[0].flatten()\n",
    "    y = Mesh_extract[1].flatten()\n",
    "    u = U_extract[0].flatten()\n",
    "    v = U_extract[1].flatten()\n",
    "\n",
    "    df = pd.DataFrame({\"x\" : x, \"y\" : y,\"u\" : u, \"v\" : v,\"dudx\":dudx_e,\"dudy\":dudy_e,\"dvdx\":dvdx_e,\"dvdy\":dvdy_e})\n",
    "    df.to_csv(filename, index=False)\n",
    "\n",
    "def base_flow_constraint(SV):\n",
    "    U = irfft2(SV.Uf*SV.dealias)\n",
    "    SV.Wf = vorticity2D_f(SV.Uf,SV)\n",
    "    Wx    = irfft2(1j*SV.K[0]*SV.Wf*SV.dealias) \n",
    "    Wy    = irfft2(1j*SV.K[1]*SV.Wf*SV.dealias) \n",
    "\n",
    "    residual = U[0]*Wx + U[1]*Wy\n",
    "    \n",
    "    # residual = Wy\n",
    "    return residual\n"
   ]
  },
  {
   "cell_type": "code",
   "execution_count": 97,
   "metadata": {},
   "outputs": [
    {
     "name": "stdout",
     "output_type": "stream",
     "text": [
      "1 2 1\n"
     ]
    }
   ],
   "source": [
    "Xc = [1,3]\n",
    "Yc = [2,4]\n",
    "g = [1]\n",
    "for x,y,gam in zip(Xc,Yc,g):\n",
    "    print(x,y,gam)"
   ]
  },
  {
   "cell_type": "code",
   "execution_count": 48,
   "metadata": {},
   "outputs": [
    {
     "name": "stdout",
     "output_type": "stream",
     "text": [
      "Iteration ==  10\n",
      "Iteration ==  20\n",
      "Iteration ==  30\n",
      "Iteration ==  40\n",
      "Iteration ==  50\n",
      "Iteration ==  60\n",
      "Iteration ==  70\n",
      "Iteration ==  80\n",
      "Iteration ==  90\n",
      "Iteration ==  100\n",
      "Iteration ==  110\n",
      "Iteration ==  120\n",
      "Iteration ==  130\n",
      "Iteration ==  140\n",
      "Iteration ==  150\n",
      "Iteration ==  160\n",
      "Iteration ==  170\n",
      "Iteration ==  180\n",
      "Iteration ==  190\n",
      "Iteration ==  200\n",
      "Iteration ==  210\n",
      "Iteration ==  220\n",
      "Iteration ==  230\n",
      "Iteration ==  240\n",
      "Iteration ==  250\n",
      "Iteration ==  260\n",
      "Iteration ==  270\n",
      "Iteration ==  280\n",
      "Iteration ==  290\n",
      "Iteration ==  300\n",
      "Iteration ==  310\n",
      "Iteration ==  320\n",
      "Iteration ==  330\n",
      "Iteration ==  340\n",
      "Iteration ==  350\n",
      "Iteration ==  360\n",
      "Iteration ==  370\n",
      "Iteration ==  380\n",
      "Iteration ==  390\n",
      "Iteration ==  400\n",
      "Iteration ==  410\n",
      "Iteration ==  420\n",
      "Iteration ==  430\n",
      "Iteration ==  440\n",
      "Iteration ==  450\n",
      "Iteration ==  460\n",
      "Iteration ==  470\n",
      "Iteration ==  480\n",
      "Iteration ==  490\n",
      "Iteration ==  500\n",
      "Iteration ==  510\n",
      "Iteration ==  520\n",
      "Iteration ==  530\n",
      "Iteration ==  540\n",
      "Iteration ==  550\n",
      "Iteration ==  560\n",
      "Iteration ==  570\n",
      "Iteration ==  580\n",
      "Iteration ==  590\n",
      "Iteration ==  600\n",
      "Iteration ==  610\n",
      "Iteration ==  620\n",
      "Iteration ==  630\n",
      "Iteration ==  640\n",
      "Iteration ==  650\n",
      "Iteration ==  660\n",
      "Iteration ==  670\n",
      "Iteration ==  680\n",
      "Iteration ==  690\n",
      "Iteration ==  700\n",
      "Iteration ==  710\n",
      "Iteration ==  720\n",
      "Iteration ==  730\n",
      "Iteration ==  740\n",
      "Iteration ==  750\n",
      "Iteration ==  760\n",
      "Iteration ==  770\n",
      "Iteration ==  780\n",
      "Iteration ==  790\n",
      "Iteration ==  800\n"
     ]
    }
   ],
   "source": [
    "# SV.Uf = rfft2(SV.U)\n",
    "\n",
    "t1 = time.time()\n",
    "Re = 3142\n",
    "SV = SolverVars(xR =[0,12],yR = [0,12],nx=512,ny=512,dt=0.001,T=0.8,anim_s=10,nu=2*pi/Re)\n",
    "# SV = SolverVars(xR =[0,12],yR = [0,12],nx=512,ny=512,dt=0.001,T=0.8,anim_s=500,nu=2*pi/Re)\n",
    "SV.a_targ=[0.5]\n",
    "SV.padx = 90\n",
    "SV.pady = 90\n",
    "# SV.padx = 180\n",
    "# SV.pady = 180\n",
    "\n",
    "CBV = CallbackVars(SV)\n",
    "generate_mesh(SV)\n",
    "wavespace(SV)\n",
    "# vort = LC_initial_condition(SV)\n",
    "# initial_condition(SV)\n",
    "\n",
    "initial_conditionRankineVP(SV)\n",
    "# initial_conditionScullyVP(SV)\n",
    "# initial_condition_2DTGV(SV)\n",
    "solve_RK4(SV,CBV)\n",
    "for i in range(2): SV.Uf[i] = rfft2(SV.U[i])\n",
    "# print(\"Total simulation time == \",time.time()-t1)\n",
    "\n",
    "# filename = \"ouputs/Aug25/ext_data/velsp_rc_0.2_LO_st_nd_L12_1024_re_3000.csv\"\n",
    "# vortex_pair_data_extractor(SV,filename)\n",
    "# res = base_flow_constraint(SV)\n",
    "# for i in range(2): SV.Uf[i] = rfft2(SV.U[i])\n",
    "# filename = r'E:/OneDrive/Research/code/PsuedoSpecNS/ouputs/Aug25/full_data/data_rc_0.2_LO_st_nd_L12_1024_re_3000.pkl'    \n",
    "# save(SV,CBV,res,filename)"
   ]
  },
  {
   "cell_type": "code",
   "execution_count": 324,
   "metadata": {},
   "outputs": [
    {
     "name": "stdout",
     "output_type": "stream",
     "text": [
      "(10, 2)\n"
     ]
    },
    {
     "data": {
      "image/png": "[encoded data removed]",
      "text/plain": [
       "<Figure size 432x288 with 2 Axes>"
      ]
     },
     "metadata": {
      "needs_background": "light"
     },
     "output_type": "display_data"
    }
   ],
   "source": [
    "filename = \"ouputs/Sep3/ext_data/velsp_rc_0.2_Ran_st_L12_1024_re_3142.csv\"\n",
    "vortex_pair_data_extractor(SV,filename)\n",
    "res = base_flow_constraint(SV)\n",
    "for i in range(2): SV.Uf[i] = rfft2(SV.U[i])\n",
    "filename = r'E:/OneDrive/Research/code/PsuedoSpecNS/ouputs/Sep3/full_data/data_rc_0.2_Ran_st_L12_1024_re_3142.pkl'    \n",
    "save(SV,CBV,res,filename)"
   ]
  },
  {
   "cell_type": "code",
   "execution_count": 19,
   "metadata": {},
   "outputs": [
    {
     "data": {
      "application/vnd.jupyter.widget-view+json": {
       "model_id": "16b7967963ab43c3bce9359b3f9456ba",
       "version_major": 2,
       "version_minor": 0
      },
      "text/plain": [
       "Canvas(toolbar=Toolbar(toolitems=[('Home', 'Reset original view', 'home', 'home'), ('Back', 'Back to previous …"
      ]
     },
     "metadata": {},
     "output_type": "display_data"
    },
    {
     "data": {
      "text/plain": [
       "(-6.283172770321526,\n",
       " 3.5000024897093462,\n",
       " 4.000010218065952,\n",
       " 0.047549089927796856,\n",
       " 0.047856284291602706,\n",
       " 0.06746213678175642,\n",
       " array([3.49999995, 4.0000004 ]),\n",
       " array([0.04756208, 0.04786843]))"
      ]
     },
     "execution_count": 19,
     "metadata": {},
     "output_type": "execute_result"
    }
   ],
   "source": [
    "Nt = -1\n",
    "Ut = SV.Ut[:,:,:,Nt]\n",
    "Ut = np.copy(SV.U)\n",
    "\n",
    "\n",
    "Uf = rfft2(Ut)\n",
    "W = np.zeros((SV.nx,SV.ny),dtype=dtype_re)\n",
    "W = vorticity2D(Uf,SV)\n",
    "S = streamfunction(Uf,SV)\n",
    "W_d = vorticity2D_fd(Ut,SV)\n",
    "# W_df = rfft2(W_d)*sig\n",
    "# W_d = irfft2(W_df)\n",
    "\n",
    "\n",
    "%matplotlib widget\n",
    "# %matplotlib inline\n",
    "# Xc,XCind = vortexPairCenter(Uf,SV)\n",
    "Xc,XCind = vortexPairCenterVortCentroid(Uf,SV)\n",
    "\n",
    "\n",
    "# SV.padx = 72\n",
    "# SV.pady = 100\n",
    "padx = SV.padx\n",
    "pady = SV.pady\n",
    "x1 = int(0.5*SV.nx-padx)\n",
    "x2 = int(0.5*SV.nx)\n",
    "# x1 = int(0.5*SV.nx)\n",
    "# x2 = int(0.5*SV.nx+padx)\n",
    "y1 = int(XCind[1,1]-pady*0.5)\n",
    "y2 = int(XCind[1,1]+pady*0.5)\n",
    "\n",
    "shiftx = 0\n",
    "fig, ax = plt.subplots()\n",
    "ax.set_aspect('equal')\n",
    "# plt.contour(W.T,levels = 50,cmap='jet')\n",
    "# plt.contourf(SV.Mesh[0],SV.Mesh[1],Ut[1].T*0.05,levels = 100,cmap='jet')\n",
    "# plt.contourf(SV.Mesh[0],SV.Mesh[1],W*0.05,levels = 100,cmap='jet')\n",
    "plt.contourf(SV.Mesh[0],SV.Mesh[1],W,levels = 50,cmap='jet')\n",
    "# plt.contourf(S.T,levels = 50,cmap='jet')\n",
    "# plt.contourf(vort.T,levels = 50,cmap='jet')\n",
    "\n",
    "\n",
    "# plt.plot(Xc[0,0],Xc[1,0],'ro',markersize=2)\n",
    "# plt.plot(Xc[0,1],Xc[1,1],'ro',markersize=2)\n",
    "\n",
    "# plt.plot(XCind[0,0],XCind[1,0],'ro',markersize=2)\n",
    "# plt.plot(XCind[0,1],XCind[1,1],'ro',markersize=2)\n",
    "rec = mpl.patches.Rectangle([SV.Mesh[0,x1,y1],SV.Mesh[1,x1,y1]], SV.Mesh[0,x2,y2]-SV.Mesh[0,x1,y2], SV.Mesh[1,x2,y2]-SV.Mesh[1,x1,y1],linestyle= '--',angle=0.0,fc ='none',ec ='r',lw = 1)\n",
    "rec2 = mpl.patches.Rectangle([SV.Mesh[0,x1+padx,y1],SV.Mesh[1,x1,y1]], SV.Mesh[0,x2,y2]-SV.Mesh[0,x1,y2], SV.Mesh[1,x2,y2]-SV.Mesh[1,x1,y1],linestyle='--', angle=0.0,fc ='none',ec ='b',lw = 1)\n",
    "ax.add_patch(rec)\n",
    "ax.add_patch(rec2)\n",
    "plt.colorbar()\n",
    "# plt.clim(-1.8,1.8)\n",
    "plt.show()\n",
    "\n",
    "\n",
    "W_test = W\n",
    "Gamma = (W_test[x1:x2,y1:y2]).sum()*SV.dx*SV.dy\n",
    "xc = np.sum( SV.Mesh[0,x1:x2,y1:y2]*W_test[x1:x2,y1:y2]*SV.dx*SV.dy)/Gamma\n",
    "yc = np.sum( SV.Mesh[1,x1:x2,y1:y2]*W_test[x1:x2,y1:y2]*SV.dx*SV.dy)/Gamma\n",
    "# xc = Xc[0,0]\n",
    "# yc = Xc[1,0]\n",
    "ax = np.sqrt(np.abs(np.sum((SV.Mesh[0,x1:x2,y1:y2]-xc)**2*W_test[x1:x2,y1:y2])*SV.dx*SV.dy/Gamma))\n",
    "ay = np.sqrt(np.abs(np.sum((SV.Mesh[1,x1:x2,y1:y2]-yc)**2*W_test[x1:x2,y1:y2])*SV.dx*SV.dy/Gamma))\n",
    "\n",
    "\n",
    "Gamma,xc,yc,ax,ay,(ax**2+ay**2)**0.5,Xc[:,0],CBV.vortex_pair_rad[:,0,-1]\n",
    "# XCind\n",
    "\n",
    "\n",
    "# XCind,Xc\n",
    "# plt.savefig(\"ouputs/Aug25/plots/LO_init_vort_box.png\", facecolor='none', bbox_inches=\"tight\",\n",
    "#             pad_inches=0.05, transparent=True, dpi=300)\n"
   ]
  },
  {
   "cell_type": "code",
   "execution_count": 36,
   "metadata": {},
   "outputs": [
    {
     "data": {
      "text/plain": [
       "array([1.00339157, 1.00259994])"
      ]
     },
     "execution_count": 36,
     "metadata": {},
     "output_type": "execute_result"
    }
   ],
   "source": [
    "CBV.eulerResidual[1,:]"
   ]
  },
  {
   "cell_type": "code",
   "execution_count": 62,
   "metadata": {},
   "outputs": [],
   "source": [
    "# x = SV.Mesh[0].flatten()\n",
    "# y = SV.Mesh[1].flatten()\n",
    "# u = SV.U[0].flatten()\n",
    "# v = SV.U[1].flatten()\n",
    "\n",
    "# df = pd.DataFrame({\"x\" : x, \"y\" : y,\"u\" : u, \"v\" : v})\n",
    "# filename='single_vortex_with_two_ghost_on_either_side.csv'\n",
    "# df.to_csv(filename, index=False)"
   ]
  },
  {
   "cell_type": "code",
   "execution_count": 173,
   "metadata": {},
   "outputs": [],
   "source": []
  },
  {
   "cell_type": "code",
   "execution_count": 141,
   "metadata": {},
   "outputs": [
    {
     "data": {
      "image/png": "[encoded data removed]",
      "text/plain": [
       "<Figure size 432x288 with 1 Axes>"
      ]
     },
     "metadata": {
      "needs_background": "light"
     },
     "output_type": "display_data"
    }
   ],
   "source": [
    "CBV_8 = CBV\n",
    "SV_8 = SV\n",
    "# CBV_12 = CBV\n",
    "# SV_12  = SV\n",
    "\n",
    "%matplotlib inline\n",
    "XCind,Xc\n",
    "t = np.arange(0,SV.T,SV.dt)*(1/0.067**2)/Re\n",
    "N = 800\n",
    "ax = CBV.vortex_pair_rad[0,1]\n",
    "ay = CBV.vortex_pair_rad[1,1]\n",
    "E = ay/ax\n",
    "\n",
    "# plt.plot(t[:N],E[:N])\n",
    "# plt.semilogy(t[:N],CBV_6_5.eulerResidual[1,:N])\n",
    "# plt.semilogy(t[:N],CBV.eulerResidual[1,:N])\n",
    "plt.plot(t[:N],CBV.eulerResidual[1,:N])\n",
    "# plt.semilogy(t[:N],CBV_7.eulerResidual[1,:N])\n",
    "# plt.plot(CBV_8.temp1[:])\n",
    "# plt.plot(CBV_7.temp1[:])\n",
    "# plt.plot(CBV_6_5.temp1[300:])\n",
    "# plt.plot(CBV.temp1[300:])\n",
    "\n",
    "plt.xlim([0,0.04])\n",
    "plt.ylim([1e-3,1e2])\n",
    "plt.grid()\n",
    "plt.show()\n",
    "# plt.plot(CBV.residual[1,:])\n",
    "# CBV.eulerResidual.shape"
   ]
  },
  {
   "cell_type": "code",
   "execution_count": 49,
   "metadata": {},
   "outputs": [
    {
     "data": {
      "text/plain": [
       "(0.13034307238396386, 2.2681270448855257, 9.524649245575684, 560.6258047643656)"
      ]
     },
     "execution_count": 49,
     "metadata": {},
     "output_type": "execute_result"
    }
   ],
   "source": [
    "# SV.Uf = rfft2(SV.U)\n",
    "# file_out = open(\"ER.txt\",\"a\")\n",
    "\n",
    "SV_i = SV\n",
    "\n",
    "ER = np.zeros(81)\n",
    "for i in range(81):\n",
    "    Nt = i\n",
    "    U  = SV_i.Ut[:,:,:,Nt]\n",
    "    # U = np.copy(SV.U)\n",
    "    Uf = rfft2(U)\n",
    "\n",
    "    # Uf = \n",
    "    Xc,Xcind = vortexPairCenterVortCentroid(Uf,SV)\n",
    "\n",
    "    Wf = vorticity2D_f(Uf,SV_i)\n",
    "    W  = vorticity2D(Uf,SV_i)\n",
    "\n",
    "    Wx_f  = 1j*Wf*SV_i.K[0]*SV_i.fou_filt\n",
    "    Wy_f  = 1j*Wf*SV_i.K[1]*SV_i.fou_filt\n",
    "    Wx    = irfft2(Wx_f)\n",
    "    Wy    = irfft2(Wy_f)\n",
    "\n",
    "    # for i in range(2): U[i,:,:] = irfft2(Uf[i])\n",
    "\n",
    "    pady = SV_i.padx\n",
    "    padx = SV_i.pady\n",
    "    x1 = int(0.5*SV_i.nx-padx)\n",
    "    x2 = int(0.5*SV_i.nx)\n",
    "    y1 = int(Xcind[1,1]-pady*0.5)\n",
    "    y2 = int(Xcind[1,1]+pady*0.5)\n",
    "\n",
    "    # left vortex integrals\n",
    "    Q = np.square(U[0]*Wx + U[1]*Wy)\n",
    "    limits = np.array([[x1,x2],[y1,y2]])\n",
    "    ER_numer = areaIntegral(Q,SV_i,limits)\n",
    "    ER_denom = areaIntegral(np.square(W),SV_i,limits)\n",
    "    ER[Nt] = (ER_numer/ER_denom)**0.5\n",
    "\n",
    "# A = np.sum(np.square(SV_i.U[0,x1:x2,y1:y2]*Wx[x1:x2,y1:y2] + SV_i.U[1,x1:x2,y1:y2]*Wy[x1:x2,y1:y2]))*SV_i.dx*SV_i.dy\n",
    "# B = np.sum(np.square(SV_i.W[x1:x2,y1:y2]))*SV_i.dx*SV_i.dy\n",
    "\n",
    "(ER_numer/ER_denom)**0.5,CBV.eulerResidual[0,-1],ER_numer,ER_denom\n"
   ]
  },
  {
   "cell_type": "code",
   "execution_count": 50,
   "metadata": {},
   "outputs": [
    {
     "data": {
      "image/png": "[encoded data removed]",
      "text/plain": [
       "<Figure size 432x288 with 1 Axes>"
      ]
     },
     "metadata": {
      "needs_background": "light"
     },
     "output_type": "display_data"
    }
   ],
   "source": [
    "# t = np.arange(0,SV.T,SV.dt)*(1/0.067**2)/Re\n",
    "plt.semilogy(ER)\n",
    "plt.ylim([1e-3,1e2])\n",
    "plt.xlim([0,80])\n",
    "plt.grid()\n",
    "plt.show()"
   ]
  },
  {
   "cell_type": "code",
   "execution_count": 67,
   "metadata": {},
   "outputs": [
    {
     "data": {
      "image/png": "[encoded data removed]",
      "text/plain": [
       "<Figure size 432x288 with 1 Axes>"
      ]
     },
     "metadata": {
      "needs_background": "light"
     },
     "output_type": "display_data"
    }
   ],
   "source": [
    "%matplotlib inline\n",
    "XCind,Xc\n",
    "t = np.arange(0,SV.T,SV.dt)*(1/0.067**2)/Re\n",
    "N = 800\n",
    "ax = CBV.vortex_pair_rad[0,1]\n",
    "ay = CBV.vortex_pair_rad[1,1]\n",
    "# E = ay/ax\n",
    "\n",
    "# plt.plot(t[:N],E[:N])\n",
    "# plt.semilogy(t[:N],CBV.eulerResidual[1,:N])\n",
    "plt.plot(CBV.temp2[:])\n",
    "# plt.plot(CBV.temp1[:])\n",
    "# plt.xlim([0,0.04])\n",
    "# plt.ylim([1e-3,1e2])\n",
    "plt.grid()\n",
    "plt.show()\n",
    "# plt.plot(CBV.residual[1,:])\n",
    "# CBV.eulerResidual.shape"
   ]
  },
  {
   "cell_type": "code",
   "execution_count": 8,
   "metadata": {},
   "outputs": [
    {
     "data": {
      "image/png": "[encoded data removed]",
      "text/plain": [
       "<Figure size 432x288 with 1 Axes>"
      ]
     },
     "metadata": {
      "needs_background": "light"
     },
     "output_type": "display_data"
    }
   ],
   "source": [
    "%matplotlib inline\n",
    "XCind,Xc\n",
    "t = np.arange(0,SV.T,SV.dt)*(1/0.067**2)/3142\n",
    "N = 800\n",
    "ax = CBV.vortex_pair_rad[0,1]\n",
    "ay = CBV.vortex_pair_rad[1,1]\n",
    "E = ay/ax\n",
    "plt.plot(t[:N],E[:N])\n",
    "# plt.semilogy(t[:N],CBV.eulerResidual[1,:N])\n",
    "plt.xlim([0,0.04])\n",
    "plt.ylim([1,1.2])\n",
    "# plt.ylim([1e-3,1e2])\n",
    "plt.grid()\n",
    "plt.show()\n",
    "# plt.plot(CBV.residual[1,:])\n",
    "# CBV.eulerResidual.shape"
   ]
  },
  {
   "cell_type": "code",
   "execution_count": 41,
   "metadata": {},
   "outputs": [
    {
     "data": {
      "application/vnd.jupyter.widget-view+json": {
       "model_id": "ae6abfa9e0674b4cb10a4961bcb1bfa1",
       "version_major": 2,
       "version_minor": 0
      },
      "text/plain": [
       "Canvas(toolbar=Toolbar(toolitems=[('Home', 'Reset original view', 'home', 'home'), ('Back', 'Back to previous …"
      ]
     },
     "metadata": {},
     "output_type": "display_data"
    },
    {
     "data": {
      "text/plain": [
       "[<matplotlib.lines.Line2D at 0x1f795f04908>]"
      ]
     },
     "execution_count": 41,
     "metadata": {},
     "output_type": "execute_result"
    }
   ],
   "source": [
    "%matplotlib widget\n",
    "\n",
    "# plt.plot(Ut[1,:,256])\n",
    "# plt.plot(Ut[0,512,:])\n",
    "# plt.hlines(0,0,1024,'r')\n",
    "plt.plot(W[:,200])\n",
    "# plt.plot(W_d[:,512])"
   ]
  },
  {
   "cell_type": "code",
   "execution_count": 224,
   "metadata": {},
   "outputs": [
    {
     "data": {
      "application/vnd.jupyter.widget-view+json": {
       "model_id": "022d136feda0426bba48e6974fa82ea3",
       "version_major": 2,
       "version_minor": 0
      },
      "text/plain": [
       "Canvas(toolbar=Toolbar(toolitems=[('Home', 'Reset original view', 'home', 'home'), ('Back', 'Back to previous …"
      ]
     },
     "metadata": {},
     "output_type": "display_data"
    },
    {
     "data": {
      "text/plain": [
       "<matplotlib.collections.LineCollection at 0x236545d0c08>"
      ]
     },
     "execution_count": 224,
     "metadata": {},
     "output_type": "execute_result"
    }
   ],
   "source": [
    "%matplotlib widget\n",
    "\n",
    "plt.plot(Ut[1,:,512])\n",
    "plt.hlines(1,0,1024,'r')\n",
    "# plt.plot(W[:,512])\n",
    "# plt.plot(W_d[:,512])"
   ]
  },
  {
   "cell_type": "code",
   "execution_count": null,
   "metadata": {},
   "outputs": [],
   "source": [
    "%matplotlib inline\n",
    "plt.plot(CBV.max_val_residual[0,1:])\n",
    "plt.show()\n",
    "plt.plot(CBV.max_val_residual[1,1:])\n",
    "plt.show()"
   ]
  },
  {
   "cell_type": "code",
   "execution_count": null,
   "metadata": {},
   "outputs": [],
   "source": [
    "%matplotlib inline\n",
    "a = np.sqrt(CBV.vortex_pair_rad[0,0,1:]**2 + CBV.vortex_pair_rad[1,0,1:]**2)\n",
    "E = CBV.vortex_pair_rad[1,0,1:]/CBV.vortex_pair_rad[0,0,1:]\n",
    "# plt.plot(np.sqrt(CBV.vortex_pair_rad[0,0,:]**2 + CBV.vortex_pair_rad[1,0,:]**2))\n",
    "plt.plot(E)\n",
    "plt.show()\n",
    "\n",
    "CBV.vortex_pair_rad[0,0,SV.it],CBV.vortex_pair_rad[1,0,SV.it],a[-1]"
   ]
  },
  {
   "cell_type": "code",
   "execution_count": 264,
   "metadata": {},
   "outputs": [
    {
     "data": {
      "image/png": "[encoded data removed]",
      "text/plain": [
       "<Figure size 432x288 with 1 Axes>"
      ]
     },
     "metadata": {
      "needs_background": "light"
     },
     "output_type": "display_data"
    }
   ],
   "source": [
    "Uf = rfft2(SV.U)\n",
    "W = vorticity2D(Uf,SV)\n",
    "S = streamfunction(Uf,SV)\n",
    "\n",
    "x = np.arange(514,554,dtype=int)\n",
    "y = np.arange(488,538,dtype=int)\n",
    "X,Y = np.meshgrid(x,y,indexing='ij')\n",
    "\n",
    "W_val = W[X,Y]\n",
    "S_val = S[X,Y]\n",
    "plt.scatter(S_val,W_val,s=1)\n",
    "plt.show()"
   ]
  },
  {
   "cell_type": "code",
   "execution_count": 265,
   "metadata": {},
   "outputs": [
    {
     "data": {
      "image/png": "[encoded data removed]",
      "text/plain": [
       "<Figure size 432x288 with 1 Axes>"
      ]
     },
     "metadata": {
      "needs_background": "light"
     },
     "output_type": "display_data"
    }
   ],
   "source": [
    "Uf = rfft2(SV.U)\n",
    "W = vorticity2D(Uf,SV)\n",
    "S = streamfunction(Uf,SV)\n",
    "\n",
    "x = np.arange(454,504,dtype=int)\n",
    "y = np.arange(488,538,dtype=int)\n",
    "X,Y = np.meshgrid(x,y,indexing='ij')\n",
    "\n",
    "\n",
    "W_val = W[X,Y]\n",
    "S_val = S[X,Y]\n",
    "plt.scatter(S_val,W_val,s=1)\n",
    "plt.show()"
   ]
  },
  {
   "cell_type": "markdown",
   "metadata": {},
   "source": [
    "## Lamb Oseen Rankine comparsion"
   ]
  },
  {
   "cell_type": "code",
   "execution_count": 24,
   "metadata": {},
   "outputs": [],
   "source": [
    "# filepath = r\"ouputs/Aug25/full_data/data_Re_3142_Ran_L12_1024.pkl\"\n",
    "# infile = open(filepath,'rb')\n",
    "# SV_ran  = pickle.load(infile)\n",
    "# CBV_ran  = pickle.load(infile)\n",
    "# infile.close()\n",
    "\n",
    "# filepath = r\"ouputs/Aug25/full_data/data_Re_3142_LO_L12_1024.pkl\"\n",
    "filepath = r\"ouputs/Aug25/full_data/data_rc_0.2_LO_st_nd_L12_1024_re_2400.pkl\"\n",
    "infile = open(filepath,'rb')\n",
    "SV_LO  = pickle.load(infile)\n",
    "CBV_LO  = pickle.load(infile)\n",
    "infile.close()"
   ]
  },
  {
   "cell_type": "code",
   "execution_count": 4,
   "metadata": {},
   "outputs": [],
   "source": [
    "# 4X4 plot\n",
    "index = [0,1,4,9,16]\n",
    "vort_ran = []\n",
    "a_ran = []\n",
    "a = np.sqrt(CBV_ran.vortex_pair_rad[0,0,1:]**2 + CBV_ran.vortex_pair_rad[1,0,1:]**2)\n",
    "for i in index:\n",
    "    U_ran = SV_ran.Ut[:,:,:,i]\n",
    "    Uf = rfft2(U_ran)\n",
    "    Xc,XCind = vortexPairCenterVortCentroid(Uf,SV_ran)\n",
    "    W_ran = vorticity2D(Uf,SV_ran)\n",
    "    vort_ran.append(W_ran[:,int(XCind[1,0])])\n",
    "    if i!=16:\n",
    "        a_ran.append(a[i*500])\n",
    "    else:\n",
    "        a_ran.append(a[i*500-1])\n",
    "\n",
    "\n",
    "index = [0,1,4,9,16]\n",
    "vort_LO = []\n",
    "a_LO = []\n",
    "a = np.sqrt(CBV_LO.vortex_pair_rad[0,0,1:]**2 + CBV_LO.vortex_pair_rad[1,0,1:]**2)\n",
    "for i in index:\n",
    "    U_LO = SV_LO.Ut[:,:,:,i]\n",
    "    Uf = rfft2(U_LO)\n",
    "    Xc,XCind = vortexPairCenterVortCentroid(Uf,SV_LO)\n",
    "    W_LO = vorticity2D(Uf,SV_LO)\n",
    "    vort_LO.append(W_LO[:,int(XCind[1,0])])\n",
    "    if i!=16:\n",
    "        a_LO.append(a[i*500])\n",
    "    else:\n",
    "        a_LO.append(a[i*500-1])\n",
    "\n",
    "# data = {\"vort_500\":}\n",
    "# savemat(filepath,)\n"
   ]
  },
  {
   "cell_type": "code",
   "execution_count": 112,
   "metadata": {},
   "outputs": [
    {
     "data": {
      "image/png": "[encoded data removed]",
      "text/plain": [
       "<Figure size 432x288 with 1 Axes>"
      ]
     },
     "metadata": {
      "needs_background": "light"
     },
     "output_type": "display_data"
    }
   ],
   "source": [
    "t = np.arange(0,SV_LO.T,SV_LO.dt)\n",
    "plt.plot(t,CBV_ran.max_val_residual[1,1:])\n",
    "plt.plot(t,CBV_LO.max_val_residual[1,1:])\n",
    "plt.legend(['Rankine','Lamb-Oseen'])\n",
    "plt.xlabel('$t \\hspace{0.5}\\Gamma/2\\pi b^2$')\n",
    "plt.ylabel('Residual')\n",
    "\n",
    "plt.savefig(\"ouputs/Aug25/plots/LO_Ran_residue.png\", facecolor='none', bbox_inches=\"tight\",\n",
    "            pad_inches=0.05, transparent=True, dpi=300)"
   ]
  },
  {
   "cell_type": "code",
   "execution_count": 102,
   "metadata": {},
   "outputs": [
    {
     "data": {
      "image/png": "[encoded data removed]",
      "text/plain": [
       "<Figure size 432x288 with 1 Axes>"
      ]
     },
     "metadata": {
      "needs_background": "light"
     },
     "output_type": "display_data"
    }
   ],
   "source": [
    "N = 8000\n",
    "plt.semilogy(time[:N],CBV_ran.eulerResidual[1,:N])\n",
    "plt.semilogy(time[:N],CBV_LO.eulerResidual[1,:N])\n",
    "\n",
    "plt.xlabel('$t \\hspace{0.5}\\Gamma/2\\pi b^2$')\n",
    "plt.ylabel('N')\n",
    "plt.legend(['Rankine','Lamb-Oseen'])\n",
    "plt.savefig(\"ouputs/Aug25/plots/LO_Ran_Euler_residue.png\", facecolor='none', bbox_inches=\"tight\",\n",
    "            pad_inches=0.05, transparent=True, dpi=300)"
   ]
  },
  {
   "cell_type": "code",
   "execution_count": 26,
   "metadata": {},
   "outputs": [
    {
     "name": "stderr",
     "output_type": "stream",
     "text": [
      "F:\\Anaconda3\\anaconda\\envs\\numcomp\\lib\\site-packages\\ipykernel_launcher.py:12: RuntimeWarning: invalid value encountered in true_divide\n",
      "  if sys.path[0] == '':\n"
     ]
    },
    {
     "data": {
      "image/png": "[encoded data removed]",
      "text/plain": [
       "<Figure size 432x288 with 1 Axes>"
      ]
     },
     "metadata": {
      "needs_background": "light"
     },
     "output_type": "display_data"
    }
   ],
   "source": [
    "plt.rcParams['font.size'] = '18'   \n",
    "N = 1000\n",
    "t = np.arange(0,SV_LO.T,SV_LO.dt)\n",
    "\n",
    "# ax = CBV_ran.vortex_pair_rad[0,1]\n",
    "# ay = CBV_ran.vortex_pair_rad[1,1]\n",
    "# E = ay/ax\n",
    "# plt.plot(time[:N],E[:N],'--')\n",
    "\n",
    "ax = CBV_LO.vortex_pair_rad[0,1]\n",
    "ay = CBV_LO.vortex_pair_rad[1,1]\n",
    "E = ay/ax\n",
    "plt.plot(t[:N],E[:N])\n",
    "\n",
    "plt.xlabel('$t \\hspace{0.5}\\Gamma/2\\pi b^2$')\n",
    "plt.ylabel('E')\n",
    "plt.legend(['Rankine','Lamb-Oseen'])\n",
    "\n",
    "\n",
    "# plt.savefig(\"ouputs/Aug25/plots/LO_Ran_E_small_time.png\", facecolor='none', bbox_inches=\"tight\",\n",
    "#             pad_inches=0.05, transparent=True, dpi=300)"
   ]
  },
  {
   "cell_type": "code",
   "execution_count": 120,
   "metadata": {},
   "outputs": [
    {
     "data": {
      "text/plain": [
       "[<matplotlib.lines.Line2D at 0x15827c51ec8>]"
      ]
     },
     "execution_count": 120,
     "metadata": {},
     "output_type": "execute_result"
    },
    {
     "data": {
      "image/png": "[encoded data removed]",
      "text/plain": [
       "<Figure size 432x288 with 1 Axes>"
      ]
     },
     "metadata": {
      "needs_background": "light"
     },
     "output_type": "display_data"
    }
   ],
   "source": [
    "plt.plot(CBV_LO.gamma)"
   ]
  },
  {
   "cell_type": "code",
   "execution_count": 10,
   "metadata": {},
   "outputs": [],
   "source": []
  },
  {
   "cell_type": "code",
   "execution_count": 33,
   "metadata": {},
   "outputs": [],
   "source": [
    "Ut = np.copy(SV.U)\n",
    "Uf = rfft2(Ut)\n",
    "Xc,XCind = vortexPairCenterVortCentroid(Uf,SV)\n",
    "W_d = vorticity2D_fd(Ut,SV)\n",
    "vort_ran[0] = W_d[:,int(XCind[1,0])]"
   ]
  },
  {
   "cell_type": "code",
   "execution_count": 36,
   "metadata": {},
   "outputs": [
    {
     "data": {
      "image/png": "[encoded data removed]",
      "text/plain": [
       "<Figure size 432x288 with 1 Axes>"
      ]
     },
     "metadata": {
      "needs_background": "light"
     },
     "output_type": "display_data"
    }
   ],
   "source": [
    "for i in range(5) : plt.plot(vort_LO[i][504:600])\n",
    "plt.show()"
   ]
  },
  {
   "cell_type": "code",
   "execution_count": null,
   "metadata": {},
   "outputs": [],
   "source": []
  },
  {
   "cell_type": "code",
   "execution_count": 102,
   "metadata": {},
   "outputs": [],
   "source": [
    "from scipy.io import savemat\n",
    "folderpath = r\"ouputs/Aug25/mat_data/vorticity/\"\n",
    "\n",
    "filepath = folderpath + \"vort_ran.mat\"\n",
    "data = {\"vort_ran\":vort_ran,\"rad_a_ran\":a_ran}\n",
    "savemat(filepath,data)\n",
    "\n",
    "filepath = folderpath + \"vort_LO.mat\"\n",
    "data = {\"vort_LO\":vort_LO,\"rad_a_LO\":a_LO}\n",
    "savemat(filepath,data)\n"
   ]
  },
  {
   "cell_type": "markdown",
   "metadata": {},
   "source": [
    "## Lamb Oseen a/b = 0.2 study"
   ]
  },
  {
   "cell_type": "code",
   "execution_count": 203,
   "metadata": {},
   "outputs": [
    {
     "data": {
      "text/plain": [
       "[<matplotlib.lines.Line2D at 0x21201b13488>]"
      ]
     },
     "execution_count": 203,
     "metadata": {},
     "output_type": "execute_result"
    },
    {
     "data": {
      "image/png": "[encoded data removed]",
      "text/plain": [
       "<Figure size 432x288 with 1 Axes>"
      ]
     },
     "metadata": {
      "needs_background": "light"
     },
     "output_type": "display_data"
    }
   ],
   "source": [
    "U = np.copy(SV.U)\n",
    "Uf = rfft2(U)\n",
    "Xc,XCind = vortexPairCenterVortCentroid(Uf,SV)\n",
    "W = vorticity2D(Uf,SV)\n",
    "\n",
    "strain_alt = velGradient(Uf,SV_LO)\n",
    "\n",
    "folderpath = r\"ouputs/Aug25/mat_data/full_data/\"\n",
    "\n",
    "filepath = folderpath + \"vort_LO_rc_0.2_analytical.mat\"\n",
    "data = {\"vort_alt\":W,\"U_alt\":U,\"vort_pos_alt\":XCind,\"strain_alt\":strain_alt}\n",
    "savemat(filepath,data)\n",
    "\n",
    "SV.Mesh[0,1,512]\n",
    "plt.plot(U[0,:,512])\n",
    "\n"
   ]
  },
  {
   "cell_type": "code",
   "execution_count": 248,
   "metadata": {},
   "outputs": [],
   "source": [
    "filepath = r\"ouputs/Aug25/full_data/data_rc_0.2_Re_3142_LO_L12_1024.pkl\"\n",
    "infile = open(filepath,'rb')\n",
    "SV_LO  = pickle.load(infile)\n",
    "CBV_LO  = pickle.load(infile)\n",
    "infile.close()\n"
   ]
  },
  {
   "cell_type": "code",
   "execution_count": 311,
   "metadata": {},
   "outputs": [
    {
     "data": {
      "text/plain": [
       "array([[5.49810995, 6.5017916 ],\n",
       "       [6.04432062, 6.04431564]])"
      ]
     },
     "execution_count": 311,
     "metadata": {},
     "output_type": "execute_result"
    }
   ],
   "source": [
    "Nt = -1\n",
    "# Ut = SV.Ut[:,:,:,Nt]\n",
    "U = SV_LO.Ut[:,:,:,-1] \n",
    "Uf = rfft2(U)\n",
    "Xc,XCind = vortexPairCenterVortCentroid(Uf,SV_LO)\n",
    "W = vorticity2D(Uf,SV_LO)\n",
    "W[:,int(XCind[1,0])]\n",
    "strain_sim = velGradient(Uf,SV_LO)\n",
    "\n",
    "# folderpath = r\"ouputs/Aug25/mat_data/full_data/\"\n",
    "\n",
    "# filepath = folderpath + \"vort_LO_rc_0.2_sim.mat\"\n",
    "# data = {\"vort_sim\":W,\"U_sim\":U,\"vort_pos_sim\":XCind,\"strain_sim\":strain_sim}\n",
    "\n",
    "\n",
    "# savemat(filepath,data)\n",
    "\n",
    "Xc"
   ]
  },
  {
   "cell_type": "code",
   "execution_count": 321,
   "metadata": {},
   "outputs": [
    {
     "data": {
      "application/vnd.jupyter.widget-view+json": {
       "model_id": "369b9e797e4b40afb43efb6924ad492a",
       "version_major": 2,
       "version_minor": 0
      },
      "text/plain": [
       "Canvas(toolbar=Toolbar(toolitems=[('Home', 'Reset original view', 'home', 'home'), ('Back', 'Back to previous …"
      ]
     },
     "metadata": {},
     "output_type": "display_data"
    },
    {
     "data": {
      "text/plain": [
       "5.49609375"
      ]
     },
     "execution_count": 321,
     "metadata": {},
     "output_type": "execute_result"
    }
   ],
   "source": [
    "# plt.plot(U[0,:,516-1])\n",
    "%matplotlib widget\n",
    "N = 1024\n",
    "# x = np.linspace(0,12,N)\n",
    "# y = np.ones(x.shape)*6.0443156\n",
    "y = np.linspace(0,12,N)\n",
    "x = np.ones(x.shape)*6.5017916\n",
    "U_int = np.zeros(x.shape)\n",
    "U_alt_int = np.zeros(x.shape)\n",
    "\n",
    "for i in range(N):\n",
    "    U_int[i]     = interpolate(x[i],y[i],U[1],SV_LO)\n",
    "    U_alt_int[i] = interpolate(x[i],y[i],U_alt[1],SV)\n",
    "    \n",
    "    \n",
    "plt.rcParams['font.size'] = '16'    \n",
    "plt.plot(SV.Mesh[0,300:700,1],U_int[300+4:700+4])\n",
    "plt.plot(SV.Mesh[0,300:700,1],U_alt_int[300:700])\n",
    "plt.xlabel('$y/b$',fontsize=18)\n",
    "plt.ylabel('$v$ velocity',fontsize=18,**{'fontname':'Helvetica'})\n",
    "plt.legend(['Simulated','Analytical'])\n",
    "# plt.hlines(0,0,12)\n",
    "# plt.show()\n",
    "plt.savefig(\"ouputs/Aug25/plots/LO_sim_alt_ay_vvel.png\", facecolor='none', bbox_inches=\"tight\",\n",
    "            pad_inches=0.05, transparent=True, dpi=300)\n",
    "\n",
    "\n",
    "SV.Mesh[0,469,1]"
   ]
  },
  {
   "cell_type": "code",
   "execution_count": 377,
   "metadata": {},
   "outputs": [
    {
     "data": {
      "application/vnd.jupyter.widget-view+json": {
       "model_id": "dab6e06e47d24d71907d229f6a74b22d",
       "version_major": 2,
       "version_minor": 0
      },
      "text/plain": [
       "Canvas(toolbar=Toolbar(toolitems=[('Home', 'Reset original view', 'home', 'home'), ('Back', 'Back to previous …"
      ]
     },
     "metadata": {},
     "output_type": "display_data"
    },
    {
     "data": {
      "text/plain": [
       "<matplotlib.legend.Legend at 0x21225d01548>"
      ]
     },
     "execution_count": 377,
     "metadata": {},
     "output_type": "execute_result"
    }
   ],
   "source": [
    "# plt.plot(U[0,:,516-1])\n",
    "%matplotlib widget\n",
    "N = 1024\n",
    "# x = np.linspace(0,12,N)\n",
    "# y = np.ones(x.shape)*6.0443156\n",
    "# y2 = np.ones(x.shape)*6.0\n",
    "y = np.linspace(0,12,N)\n",
    "y2 = y\n",
    "x = np.ones(x.shape)*6.5017916\n",
    "x2 = np.ones(x.shape)*6.5002051\n",
    "\n",
    "U = SV_LO.Ut[:,:,:,-1] \n",
    "Uf = rfft2(U)\n",
    "W_sim = vorticity2D(Uf,SV_LO)\n",
    "\n",
    "U_alt = np.copy(SV.U)\n",
    "Uf = rfft2(U_alt)\n",
    "W_alt = vorticity2D(Uf,SV)\n",
    "\n",
    "W_int = np.zeros(x.shape)\n",
    "W_alt_int = np.zeros(x.shape)\n",
    "\n",
    "for i in range(N):\n",
    "    W_int[i]     = interpolate(x[i],y[i], W_sim,SV_LO)\n",
    "    W_alt_int[i] = interpolate(x2[i],y2[i],W_alt,SV)\n",
    "    \n",
    "    \n",
    "plt.rcParams['font.size'] = '16'    \n",
    "plt.plot(SV.Mesh[1,1,400:624],    W_int[400+4:624+4])\n",
    "plt.plot(SV.Mesh[1,1,400:624],W_alt_int[400:624])\n",
    "plt.xlabel('$y/b$',fontsize=18)\n",
    "plt.ylabel('vorticity',fontsize=18,**{'fontname':'Helvetica'})\n",
    "plt.legend(['Simulated','Analytical'])\n",
    "# plt.hlines(0,0,12)\n",
    "# plt.show()\n",
    "# plt.savefig(\"ouputs/Aug25/plots/LO_sim_alt_ay_vort.png\", facecolor='none', bbox_inches=\"tight\",\n",
    "#             pad_inches=0.05, transparent=True, dpi=300)\n",
    "\n",
    "\n"
   ]
  },
  {
   "cell_type": "code",
   "execution_count": 384,
   "metadata": {},
   "outputs": [
    {
     "data": {
      "application/vnd.jupyter.widget-view+json": {
       "model_id": "fec75f7c451e4b79af4cddaaffb94d9c",
       "version_major": 2,
       "version_minor": 0
      },
      "text/plain": [
       "Canvas(toolbar=Toolbar(toolitems=[('Home', 'Reset original view', 'home', 'home'), ('Back', 'Back to previous …"
      ]
     },
     "metadata": {},
     "output_type": "display_data"
    }
   ],
   "source": [
    "# x = np.linspace(0,12,N)\n",
    "# y = np.ones(x.shape)*6.0443156\n",
    "# y2 = np.ones(x.shape)*6.0\n",
    "y = np.linspace(0,12,N)\n",
    "y2 = y\n",
    "x = np.ones(x.shape)*6.5017916\n",
    "x2 = np.ones(x.shape)*6.5002051\n",
    "\n",
    "U = SV_LO.Ut[:,:,:,-1] \n",
    "Uf = rfft2(U)\n",
    "strain_sim = velGradient(Uf,SV_LO)\n",
    "\n",
    "U_alt = np.copy(SV.U)\n",
    "Uf = rfft2(U_alt)\n",
    "strain_alt = velGradient(Uf,SV)\n",
    "\n",
    "strain_sim_int = np.zeros((4,N))\n",
    "strain_alt_int = np.zeros((4,N))\n",
    "\n",
    "for i in range(N):\n",
    "    strain_sim_int[0,i]  = interpolate(x[i],y[i], strain_sim[0],SV_LO)\n",
    "    strain_sim_int[1,i]  = interpolate(x[i],y[i], strain_sim[1],SV_LO)\n",
    "    strain_sim_int[2,i]  = interpolate(x[i],y[i], strain_sim[2],SV_LO)\n",
    "    strain_sim_int[3,i]  = interpolate(x[i],y[i], strain_sim[3],SV_LO)\n",
    "    \n",
    "    strain_alt_int[0,i]  = interpolate(x2[i],y2[i], strain_alt[0],SV)\n",
    "    strain_alt_int[1,i]  = interpolate(x2[i],y2[i], strain_alt[1],SV)\n",
    "    strain_alt_int[2,i]  = interpolate(x2[i],y2[i], strain_alt[2],SV)\n",
    "    strain_alt_int[3,i]  = interpolate(x2[i],y2[i], strain_alt[3],SV)\n",
    "\n",
    "\n",
    "plt.rcParams['font.size'] = '12'   \n",
    "fig = plt.figure()\n",
    "gs = fig.add_gridspec(2,2)\n",
    "axs = gs.subplots(sharex = True,sharey=True)\n",
    "# fig.suptitle('Sharing both axes')\n",
    "axs[0,0].plot(y[400:624],strain_sim_int[0][400+4:624+4],y2[400:624],strain_alt_int[0][400:624])\n",
    "axs[0,0].set_ylabel('$du/dx$')\n",
    "axs[0,1].plot(y[400:624],strain_sim_int[1][400+4:624+4],y2[400:624],strain_alt_int[1][400:624])\n",
    "axs[0,1].set_ylabel('$du/dy$')\n",
    "axs[1,0].plot(y[400:624],strain_sim_int[2][400+4:624+4],y2[400:624],strain_alt_int[2][400:624])\n",
    "axs[1,0].set_ylabel('$dv/dx$')\n",
    "axs[1,0].set_xlabel('$y/b$')\n",
    "axs[1,1].plot(y[400:624],strain_sim_int[3][400+4:624+4],y2[400:624],strain_alt_int[3][400:624])\n",
    "axs[1,1].set_ylabel('$dv/dy$')\n",
    "axs[1,1].set_xlabel('$y/b$')\n",
    "plt.legend(['Simulated','Analytical'])\n",
    "\n",
    "plt.savefig(\"ouputs/Aug25/plots/LO_sim_alt_ay_strain.png\", facecolor='none', bbox_inches=\"tight\",\n",
    "            pad_inches=0.05, transparent=True, dpi=300)\n",
    "\n",
    "\n",
    "# Hide x labels and tick labels for all but bottom plot.\n",
    "# for ax in axs.flat:\n",
    "#     ax.label_outer()\n"
   ]
  },
  {
   "cell_type": "code",
   "execution_count": 38,
   "metadata": {},
   "outputs": [
    {
     "data": {
      "application/vnd.jupyter.widget-view+json": {
       "model_id": "ad09a16e36654954a8e20c0badece1f9",
       "version_major": 2,
       "version_minor": 0
      },
      "text/plain": [
       "Canvas(toolbar=Toolbar(toolitems=[('Home', 'Reset original view', 'home', 'home'), ('Back', 'Back to previous …"
      ]
     },
     "metadata": {},
     "output_type": "display_data"
    }
   ],
   "source": [
    "%matplotlib widget\n",
    "\n",
    "L = 5\n",
    "x = np.linspace(0,L,101)+1e-16 \n",
    "xc = L/2\n",
    "\n",
    "v = (x-xc)*(1-exp(-(x-xc)**2/0.04))/((x-xc)**2) # single vortex at the center of the domain\n",
    "  + (x-xc-L)*(1-exp(-(x-xc-L)**2/0.04))/((x-xc-L)**2) +(x-xc+L)*(1-exp(-(x-xc+L)**2/0.04))/((x-xc+L)**2)\\  # vortices at L = -2.5 and L = 7.5\n",
    "  + (x-xc-2*L)*(1-exp(-(x-xc-2*L)**2/0.04))/((x-xc-2*L)**2)+(x-xc+2*L)*(1-exp(-(x-xc+2*L)**2/0.04))/((x-xc+2*L)**2) # vortices at L = -7.5 and L = 12.5\n",
    "\n",
    "plt.rcParams['font.size'] = '12'   \n",
    "plt.plot(x,v)\n",
    "plt.hlines(0,0,5,'r',linestyle='--')\n",
    "plt.xlabel(\"x\")\n",
    "plt.ylabel(\"tangential velocity\")\n",
    "plt.show()"
   ]
  },
  {
   "cell_type": "code",
   "execution_count": 88,
   "metadata": {},
   "outputs": [
    {
     "data": {
      "application/vnd.jupyter.widget-view+json": {
       "model_id": "b4d142b62fc643caa625efc71521b1a3",
       "version_major": 2,
       "version_minor": 0
      },
      "text/plain": [
       "Canvas(toolbar=Toolbar(toolitems=[('Home', 'Reset original view', 'home', 'home'), ('Back', 'Back to previous …"
      ]
     },
     "metadata": {},
     "output_type": "display_data"
    },
    {
     "data": {
      "text/plain": [
       "<mpl_toolkits.mplot3d.art3d.Poly3DCollection at 0x2361c797108>"
      ]
     },
     "execution_count": 88,
     "metadata": {},
     "output_type": "execute_result"
    }
   ],
   "source": [
    "%matplotlib widget\n",
    "from mpl_toolkits import mplot3d\n",
    "xL,xR = 0,6\n",
    "x = np.linspace(xL,xR,100)\n",
    "y = x.copy()\n",
    "\n",
    "X,Y = np.meshgrid(x,y,indexing='ij')\n",
    "\n",
    "a = 1.05\n",
    "n = 27\n",
    "wx = 10**(-a**n*np.abs(2*(X-xL)/(xR-xL)-1)**n)\n",
    "wy = 10**(-a**n*np.abs(2*(Y-xL)/(xR-xL)-1)**n)\n",
    "w = wx*wy\n",
    "\n",
    "fig, ax = plt.subplots(subplot_kw={\"projection\": \"3d\"})\n",
    "\n",
    "ax.plot_surface(X,Y,w)\n",
    "# plt.plot(x,wy[1,:])"
   ]
  }
 ],
 "metadata": {
  "kernelspec": {
   "display_name": "Python 3",
   "language": "python",
   "name": "python3"
  },
  "language_info": {
   "codemirror_mode": {
    "name": "ipython",
    "version": 3
   },
   "file_extension": ".py",
   "mimetype": "text/x-python",
   "name": "python",
   "nbconvert_exporter": "python",
   "pygments_lexer": "ipython3",
   "version": "3.7.9"
  }
 },
 "nbformat": 4,
 "nbformat_minor": 4
}
