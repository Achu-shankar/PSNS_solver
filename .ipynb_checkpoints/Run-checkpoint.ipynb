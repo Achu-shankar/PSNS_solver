{
 "cells": [
  {
   "cell_type": "code",
   "execution_count": 3,
   "metadata": {},
   "outputs": [],
   "source": [
    "# %load_ext autoreload\n",
    "# %autoreload 2\n",
    "from matplotlib.pyplot import colorbar\n",
    "from PSNS_2D import *\n",
    "from PSNS_Callbacks import CallbackVars,Callbacks,\\\n",
    "computeKE,vortexPairCenter,vortexPairRadius,\\\n",
    "areaIntegral,vortexPairCenterVortCentroid,vortexPairEulerResidue\n",
    "\n",
    "from numpy import pi, cos, sin,exp\n",
    "import pickle\n",
    "from numpy import savetxt\n",
    "import pandas as pd\n",
    "from scipy.special import jv\n",
    "import pickle\n",
    "import matplotlib as mpl\n",
    "import PSNS_2D"
   ]
  },
  {
   "cell_type": "code",
   "execution_count": 4,
   "metadata": {},
   "outputs": [],
   "source": [
    "def window_fn(SV):\n",
    "    X = SV.Mesh[0]\n",
    "    Y = SV.Mesh[1]\n",
    "    xl = SV.xR[0]\n",
    "    xr = SV.xR[1]\n",
    "    yl = SV.yR[0]\n",
    "    yr = SV.yR[1]\n",
    "    \n",
    "    a = 1.05\n",
    "    n = 27\n",
    "    \n",
    "    wx = 10**(-a**n*np.abs(2*(X-xl)/(xr-xl)-1)**n)\n",
    "    wy = 10**(-a**n*np.abs(2*(Y-yl)/(yr-yl)-1)**n)\n",
    "    w = wx*wy\n",
    "    SV.U = SV.U*w\n",
    "    \n",
    "def initial_condition_LO_periodic(SV,N_ghost_x,N_ghost_y):\n",
    "    X   = SV.Mesh\n",
    "    xp  = X[0]\n",
    "    yp  = X[1]\n",
    "    sl  = SV.Lx\n",
    "    a_sq = 0.05**2\n",
    "\n",
    "    \n",
    "#     Xc = [sl*0.5+0.5,sl*0.5-0.5]\n",
    "#     Yc = [sl*0.5,sl*0.5]\n",
    "#     Gam = [1,-1]\n",
    "#     adding ghost vortex pairs in the x direction\n",
    "#     for i in range(N_ghost_x):\n",
    "#         Xc.extend([Xc[0]-sl*(i+1),Xc[1]-sl*(i+1),Xc[0]+sl*(i+1),Xc[1]+sl*(i+1)])\n",
    "#         Yc.extend([Yc[0],Yc[1],Yc[0],Yc[1]])\n",
    "#         Gam.extend([1,-1,1,-1])\n",
    "    \n",
    "#     for i in range(N_ghost_y):\n",
    "#         Xc.extend([Xc[0],Xc[1],Xc[0],Xc[1]])\n",
    "#         Yc.extend([Yc[0]-sl*(i+1),Yc[1]-sl*(i+1),Yc[0]+sl*(i+1),Yc[1]+sl*(i+1)])\n",
    "#         Gam.extend([1,-1,1,-1])\n",
    "\n",
    "    Xp = [sl*0.5+0.5,sl*0.5-0.5]\n",
    "    Yp = [sl*0.5,sl*0.5]\n",
    "    Xc = []\n",
    "    Yc = []\n",
    "    Gam = []\n",
    "    for j in range(N_ghost_y):\n",
    "        for i in range(N_ghost_x):\n",
    "            if i==0 and j==0:\n",
    "                Xc.extend([Xp[0],Xp[1]])\n",
    "                Yc.extend([Yp[0],Yp[1]])\n",
    "                Gam.extend([1,-1])\n",
    "                            \n",
    "            elif i==0:\n",
    "                Xc.extend([Xp[0],Xp[1],Xp[0],Xp[1]])\n",
    "                Yc.extend([Yp[0]-sl*(j),Yp[1]-sl*(j),Yp[0]+sl*(j),Yp[1]+sl*(j)])\n",
    "                Gam.extend([1,-1,1,-1])\n",
    "            elif j==0:\n",
    "                Xc.extend([Xp[0]-sl*(i),Xp[1]-sl*(i),Xp[0]+sl*(i),Xp[1]+sl*(i)])\n",
    "                Yc.extend([Yp[0],Yp[1],Yp[0],Yp[1]])\n",
    "                Gam.extend([1,-1,1,-1])\n",
    "            else:\n",
    "                Xc.extend([Xp[0]-sl*(i),Xp[1]-sl*(i),Xp[0]+sl*(i),Xp[1]+sl*(i),\\\n",
    "                           Xp[0]-sl*(i),Xp[1]-sl*(i),Xp[0]+sl*(i),Xp[1]+sl*(i)])\n",
    "                Yc.extend([Yp[0]-sl*(j),Yp[1]-sl*(j),Yp[0]+sl*(j),Yp[1]+sl*(j),\\\n",
    "                           Yp[0]+sl*(j),Yp[1]+sl*(j),Yp[0]-sl*(j),Yp[1]-sl*(j)])\n",
    "                Gam.extend([1,-1,1,-1,1,-1,1,-1])\n",
    "                \n",
    "                \n",
    "#             print(Xc,'\\n',Yc)\n",
    "#             print(len(Xc),len(Yc),len(Gam))\n",
    "\n",
    "                \n",
    "            \n",
    "    \n",
    "\n",
    "    # %matplotlib widget\n",
    "    # fig, ax = plt.subplots()\n",
    "    # ax.set_aspect('equal')\n",
    "    # plt.scatter(Xc,Yc,c=Gam,s=3)\n",
    "    # rec = mpl.patches.Rectangle([0,0],24,24,linestyle= '--',angle=0.0,fc ='none',ec ='r',lw = 1)\n",
    "    # ax.add_patch(rec)\n",
    "    # plt.xlabel('$x/b$')\n",
    "    # plt.ylabel('$y/b$')\n",
    "    # # plt.savefig(\"outputs/Sep11/plots/LO_init_vort_periodic.png\", facecolor='none', bbox_inches=\"tight\",\\\n",
    "    # #         pad_inches=0.05, transparent=True, dpi=300)\n",
    "    # plt.show()\n",
    "    \n",
    "    def LO_vel(x_c,y_c,gam,xp,yp,a_sq):\n",
    "        x  =  np.copy(xp) - x_c\n",
    "        y  =  np.copy(yp) - y_c\n",
    "        \n",
    "        r_sq = np.square(x) + np.square(y) + 1e-16\n",
    "        u = -gam*y*(1-exp(-r_sq/a_sq))/r_sq\n",
    "        v =  gam*x*(1-exp(-r_sq/a_sq))/r_sq\n",
    "        return u,v\n",
    "    \n",
    "    for xc,yc,gam in zip(Xc,Yc,Gam):\n",
    "        u,v    = LO_vel(xc,yc,gam,xp,yp,a_sq)\n",
    "        SV.U[0] += u\n",
    "        SV.U[1] += v\n",
    "#         %matplotlib inline\n",
    "#         print('was here')\n",
    "        \n",
    "#         plt.show()\n",
    "#     window_fn(SV)\n",
    "    SV.U[1]  += (1-exp(-1/a_sq))\n",
    "    \n",
    "def initial_condition(SV):\n",
    "    X = SV.Mesh\n",
    "    sL = SV.Lx\n",
    "    xc1 = 0.5\n",
    "    xc2 = -0.5\n",
    "    a_sq = 0.05**2\n",
    "    x1    = (X[0]-0.5*sL - xc1)\n",
    "    x2    = (X[0]-0.5*sL - xc2)\n",
    "    \n",
    "    y1    =  X[1] - 0.5*sL\n",
    "    y2    =  X[1] - 0.5*sL\n",
    "    r_sq1 = np.square(x1) + np.square(y1) + 1e-16\n",
    "    r_sq2 = np.square(x2) + np.square(y2) + 1e-16\n",
    "        \n",
    "\n",
    "\n",
    "#     SV.U[0]  = -(y1*(1-exp(-r_sq1/a_sq))/r_sq1)\n",
    "#     SV.U[1]  =  (x1*(1-exp(-r_sq1/a_sq))/r_sq1) \n",
    "    SV.U[0]  = -(y1*(1-exp(-r_sq1/a_sq))/r_sq1 - y2*(1-exp(-r_sq2/a_sq))/r_sq2)\n",
    "    SV.U[1]  =  (x1*(1-exp(-r_sq1/a_sq))/r_sq1 - x2*(1-exp(-r_sq2/a_sq))/r_sq2) \n",
    "#     window_fn(SV)\n",
    "    SV.U[1]  += (1-exp(-1/a_sq))\n",
    "    \n",
    "\n",
    "def initial_conditionScullyVP(SV):\n",
    "    X = SV.Mesh\n",
    "    sL = SV.Lx\n",
    "    xc1 =  0.5\n",
    "    xc2 = -0.5\n",
    "    a_sq = 0.07**2\n",
    "    x1    = (X[0]-0.5*sL - xc1)\n",
    "    x2    = (X[0]-0.5*sL - xc2)\n",
    "    y1    =  X[1] - 0.5*sL\n",
    "    y2    =  X[1] - 0.5*sL\n",
    "    r_sq1 = np.square(x1) + np.square(y1) \n",
    "    r_sq2 = np.square(x2) + np.square(y2) \n",
    "\n",
    "    SV.U[0]  = -(y1/(a_sq + r_sq1) - y2/(a_sq + r_sq2))\n",
    "    SV.U[1]  =  (x1/(a_sq + r_sq1) - x2/(a_sq + r_sq2)) + 1/(1+a_sq)\n",
    "\n",
    "def initial_conditionRankineVP(SV):\n",
    "    X  = SV.Mesh\n",
    "    sL = SV.Lx\n",
    "    xc1 =  0.5\n",
    "    xc2 = -0.5\n",
    "    R_sq = 2*0.134**2\n",
    "    x1    = (X[0]-0.5*sL - xc1)\n",
    "    x2    = (X[0]-0.5*sL - xc2)\n",
    "    y1    =  X[1] - 0.5*sL\n",
    "    y2    =  X[1] - 0.5*sL\n",
    "    r_sq1 = np.square(x1) + np.square(y1) + 1e-7\n",
    "    r_sq2 = np.square(x2) + np.square(y2) + 1e-7\n",
    "\n",
    "\n",
    "    SV.U[0] = -((y1/R_sq)*(r_sq1<=R_sq) +  (y1/r_sq1)*(r_sq1>R_sq)) + ((y2/R_sq)*(r_sq2<=R_sq) +  (y2/r_sq2)*(r_sq2>R_sq))   \n",
    "    SV.U[1] =  ((x1/R_sq)*(r_sq1<=R_sq) +  (x1/r_sq1)*(r_sq1>R_sq)) - ((x2/R_sq)*(r_sq2<=R_sq) +  (x2/r_sq2)*(r_sq2>R_sq))\n",
    "#     window_fn(SV)\n",
    "    SV.U[1] += 1\n",
    "\n",
    "def initial_condition_2DTGV(SV):\n",
    "    X = SV.Mesh\n",
    "    sL = SV.Lx\n",
    "    SV.U[0] = 1.0 + 2.0*sin(2*pi*X[0]/sL)*cos(2*pi*X[1]/sL)\n",
    "    SV.U[1] = 1.0 - 2.0*cos(2*pi*X[0]/sL)*sin(2*pi*X[1]/sL)\n",
    "\n",
    "def LC_initial_condition(SV):\n",
    "    U = 1\n",
    "    R = 1\n",
    "    mu_1 = 3.83170597020751\n",
    "    \n",
    "    X = SV.Mesh\n",
    "    sL= SV.Lx\n",
    "    # print(sL)\n",
    "    x = X[0] - 0.5*sL\n",
    "    y = X[1] - 0.5*sL\n",
    "    r = np.sqrt(np.square(x)+np.square(y)) + 1e-6\n",
    "    cos_theta = x/r\n",
    "    A = 2*U*R/(mu_1*jv(0,mu_1))\n",
    "    B = mu_1*r/R\n",
    "    S = -A*jv(1,B)*cos_theta*(r<=R) - (r>R)*U*r*(1-(R/r)**2)*cos_theta \n",
    "    \n",
    "    Sf = rfft2(S)\n",
    "    # SV.U[0]  =   irfft2(1j*SV.K[1]*Sf)\n",
    "    # SV.U[1]  =  -irfft2(1j*SV.K[0]*Sf) \n",
    "    \n",
    "    SV.U[0]  =  np.gradient(S,SV.dy,axis=1)\n",
    "    SV.U[1]  = -np.gradient(S,SV.dx,axis=0)\n",
    "    \n",
    "    # print(S.shape)\n",
    "    return irfft2(Sf*SV.K_sq)\n",
    "\n",
    "def vortex_pair_data_extractor(SV,filename):\n",
    "\n",
    "    # only going to save the data for right vortex \n",
    "    # Nt = -1\n",
    "    # Ut = SV.Ut[:,:,:,Nt]\n",
    "    # Uf = rfft2(Ut)\n",
    "    Xc,Xc_ind = vortexPairCenter(SV.Uf,SV)  # SV.Uf has the value for last time step\n",
    "    xc = Xc[0,1]\n",
    "    yc = Xc[1,1]\n",
    "    xc_ind = Xc_ind[0,1]\n",
    "    yc_ind = Xc_ind[1,1]\n",
    "\n",
    "    xc_middle_plane = 0.5*(Xc[0,0]+Xc[0,1])\n",
    "    padx = 2\n",
    "    pady = 2\n",
    "\n",
    "    # size of box center around the middle plane of the pair\n",
    "    box_w = 2  # in length units \n",
    "    box_h = 4   # in length units\n",
    "    box_w_ind = int(box_w/SV.dx)\n",
    "    box_h_ind = int(box_h/SV.dy)\n",
    "\n",
    "    x_ind1 = int(xc_ind - int(0.5*np.abs(Xc[0,0]-Xc[0,1])/SV.dx) - padx)\n",
    "    x_ind2 = int(x_ind1 + box_w_ind   + padx)\n",
    "    y_ind1 = int(yc_ind - box_h_ind/2 - pady)\n",
    "    y_ind2 = int(yc_ind + box_h_ind/2 + pady)\n",
    "\n",
    "    U = irfft2(SV.Uf)\n",
    "    # xc_ind,yc_ind =int(CBV.vortex_pair_cent_ind[0,0,-1]),int(CBV.vortex_pair_cent_ind[1,0,-1])\n",
    "    # vel = SV.U[1,xc_ind,yc_ind]\n",
    "\n",
    "    U_extract    = np.copy(U[:,x_ind1:x_ind2,y_ind1:y_ind2])\n",
    "    # U_extract[1] = U_extract[1] - vel\n",
    "\n",
    "    Mesh_extract = np.copy(SV.Mesh[:,x_ind1:x_ind2,y_ind1:y_ind2])\n",
    "    Mesh_extract[0] = Mesh_extract[0] - xc_middle_plane\n",
    "    Mesh_extract[1] = Mesh_extract[1] - yc\n",
    "\n",
    "    dudx, dudy, dvdx, dvdy = velGradient(SV.Uf,SV)\n",
    "    dudx_e, dudy_e, dvdx_e, dvdy_e = dudx[x_ind1:x_ind2,y_ind1:y_ind2].flatten(), \\\n",
    "                                     dudy[x_ind1:x_ind2,y_ind1:y_ind2].flatten(), \\\n",
    "                                     dvdx[x_ind1:x_ind2,y_ind1:y_ind2].flatten(), \\\n",
    "                                     dvdy[x_ind1:x_ind2,y_ind1:y_ind2].flatten()\n",
    "\n",
    "    fig, ax = plt.subplots()\n",
    "    ax.set_aspect('equal')\n",
    "    s_x = np.linspace(0,1,10)\n",
    "    s_y = np.zeros(s_x.shape)\n",
    "    start_points = np.array((s_x,s_y)).T\n",
    "    print(start_points.shape)\n",
    "    plt.streamplot(Mesh_extract[0].T,Mesh_extract[1].T, U_extract[0].T, U_extract[1].T,\\\n",
    "     density=[20,20],color='k',start_points=start_points,minlength=0.1)\n",
    "    plt.contourf(Mesh_extract[0],Mesh_extract[1],U_extract[0],levels = 30)\n",
    "    plt.colorbar()\n",
    "    plt.show()\n",
    "\n",
    "    x = Mesh_extract[0].flatten()\n",
    "    y = Mesh_extract[1].flatten()\n",
    "    u = U_extract[0].flatten()\n",
    "    v = U_extract[1].flatten()\n",
    "\n",
    "    df = pd.DataFrame({\"x\" : x, \"y\" : y,\"u\" : u, \"v\" : v,\"dudx\":dudx_e,\"dudy\":dudy_e,\"dvdx\":dvdx_e,\"dvdy\":dvdy_e})\n",
    "    df.to_csv(filename, index=False)\n",
    "\n",
    "def base_flow_constraint(SV):\n",
    "    U = irfft2(SV.Uf*SV.dealias)\n",
    "    SV.Wf = vorticity2D_f(SV.Uf,SV)\n",
    "    Wx    = irfft2(1j*SV.K[0]*SV.Wf*SV.dealias) \n",
    "    Wy    = irfft2(1j*SV.K[1]*SV.Wf*SV.dealias) \n",
    "\n",
    "    residual = U[0]*Wx + U[1]*Wy\n",
    "    \n",
    "    # residual = Wy\n",
    "    return residual\n"
   ]
  },
  {
   "cell_type": "code",
   "execution_count": null,
   "metadata": {},
   "outputs": [
    {
     "name": "stdout",
     "output_type": "stream",
     "text": [
      "Iteration ==  5 a_rad ==  0.0502093008525413\n",
      "Iteration ==  10 a_rad ==  0.05041829081292163\n",
      "Iteration ==  15 a_rad ==  0.05062674113971201\n",
      "Iteration ==  20 a_rad ==  0.050834410188966464\n",
      "Iteration ==  25 a_rad ==  0.051041082358901306\n",
      "Iteration ==  30 a_rad ==  0.05124661424983806\n",
      "Iteration ==  35 a_rad ==  0.051450951339925034\n",
      "Iteration ==  40 a_rad ==  0.05165412014195022\n",
      "Iteration ==  45 a_rad ==  0.05185620591369661\n",
      "Iteration ==  50 a_rad ==  0.052057324978242975\n",
      "Iteration ==  55 a_rad ==  0.052257598236027304\n"
     ]
    }
   ],
   "source": [
    "# SV.Uf = rfft2(SV.U)\n",
    "\n",
    "t1 = time.time()\n",
    "# Re = 15708\n",
    "Re = 3000\n",
    "SV = SolverVars(xR =[0,20],yR = [0,20],nx=2048,ny=2048,dt=0.0005,T=5,anim_s=5,nu=2*pi/Re)\n",
    "# SV = SolverVars(xR =[0,12],yR = [0,12],nx=512,ny=512,dt=0.001,T=0.8,anim_s=500,nu=2*pi/Re)\n",
    "SV.a_targ=[0.1,0.15]\n",
    "SV.padx = 180\n",
    "SV.pady = 220\n",
    "# SV.padx = 180\n",
    "# SV.pady = 180\n",
    "\n",
    "CBV = CallbackVars(SV)\n",
    "generate_mesh(SV)\n",
    "wavespace(SV)\n",
    "# vort = LC_initial_condition(SV)\n",
    "initial_condition(SV)\n",
    "# initial_condition_LO_periodic(SV,10,10)\n",
    "\n",
    "# initial_conditionRankineVP(SV)\n",
    "# initial_conditionScullyVP(SV)\n",
    "# initial_condition_2DTGV(SV)\n",
    "\n",
    "solve_RK4(SV,CBV)\n",
    "\n",
    "# for i in range(2): SV.Uf[i] = rfft2(SV.U[i])\n",
    "print(\"Total simulation time == \",time.time()-t1)\n",
    "plt.show()"
   ]
  },
  {
   "cell_type": "code",
   "execution_count": null,
   "metadata": {},
   "outputs": [],
   "source": [
    "filename = \"outputs/Nov3/ext_data/velsp_rc_0.1_0.15_LO_st_nd_L24_2048_re_3000_per.csv\"\n",
    "vortex_pair_data_extractor(SV,filename)\n",
    "res = base_flow_constraint(SV)\n",
    "for i in range(2): SV.Uf[i] = rfft2(SV.U[i])\n",
    "filename = r'outputs/Nov3/ouputs/Aug25/full_data/data_rc_0.1_0.15_LO_st_nd_L24_2048_re_3000_per.pkl'    \n",
    "save(SV,CBV,res,filename)"
   ]
  },
  {
   "cell_type": "code",
   "execution_count": 6,
   "metadata": {
    "tags": []
   },
   "outputs": [
    {
     "data": {
      "image/png": "[encoded data removed]",
      "text/plain": [
       "<Figure size 432x288 with 1 Axes>"
      ]
     },
     "metadata": {
      "needs_background": "light"
     },
     "output_type": "display_data"
    }
   ],
   "source": [
    "%matplotlib inline\n",
    "plt.plot(SV.U[1,100,:])\n",
    "plt.show()\n",
    "# SV.U[1,512,:]"
   ]
  },
  {
   "cell_type": "code",
   "execution_count": 18,
   "metadata": {
    "tags": []
   },
   "outputs": [
    {
     "data": {
      "image/png": "[encoded data removed]",
      "text/plain": [
       "<Figure size 432x288 with 1 Axes>"
      ]
     },
     "metadata": {
      "needs_background": "light"
     },
     "output_type": "display_data"
    }
   ],
   "source": [
    "plt.plot(SV.U[0,100,:])\n",
    "plt.show()"
   ]
  },
  {
   "cell_type": "code",
   "execution_count": 175,
   "metadata": {},
   "outputs": [
    {
     "name": "stdout",
     "output_type": "stream",
     "text": [
      "3.29311757761461\n",
      "[[256 346]\n",
      " [211 301]]\n"
     ]
    }
   ],
   "source": [
    "vortexPairEulerResidue(SV,CBV)"
   ]
  },
  {
   "cell_type": "code",
   "execution_count": 5,
   "metadata": {},
   "outputs": [
    {
     "data": {
      "application/vnd.jupyter.widget-view+json": {
       "model_id": "d1945b5b7ddd47c8b1f05e004f43f33e",
       "version_major": 2,
       "version_minor": 0
      },
      "text/plain": [
       "Canvas(toolbar=Toolbar(toolitems=[('Home', 'Reset original view', 'home', 'home'), ('Back', 'Back to previous …"
      ]
     },
     "metadata": {},
     "output_type": "display_data"
    },
    {
     "name": "stdout",
     "output_type": "stream",
     "text": [
      "(10, 2)\n"
     ]
    }
   ],
   "source": [
    "filename = \"outputs/Sep11/ext_data/velsp_rc_0.2_LO_st_nd_L24_2048_re_3000__periodic_init_a0_0_1.csv\"\n",
    "vortex_pair_data_extractor(SV,filename)\n",
    "res = base_flow_constraint(SV)\n",
    "for i in range(2): SV.Uf[i] = rfft2(SV.U[i])\n",
    "filename = r'E:/OneDrive/Research/code/PsuedoSpecNS/outputs/Sep11/full_data/data_rc_0.2_LO_st_nd_L24_2048_re_3000_periodic_init_a0_0_1.pkl'    \n",
    "save(SV,CBV,res,filename)\n",
    "\n"
   ]
  },
  {
   "cell_type": "code",
   "execution_count": 18,
   "metadata": {},
   "outputs": [
    {
     "data": {
      "application/vnd.jupyter.widget-view+json": {
       "model_id": "9a1bd18bbd124c349932dd21a7acd479",
       "version_major": 2,
       "version_minor": 0
      },
      "text/html": [
       "\n",
       "            <div style=\"display: inline-block;\">\n",
       "                <div class=\"jupyter-widgets widget-label\" style=\"text-align: center;\">\n",
       "                    Figure\n",
       "                </div>\n",
       "                <img src='data:image/png;base64,iVBORw0KGgoAAAANSUhEUgAAAbAAAAEgCAYAAADVKCZpAAAAOXRFWHRTb2Z0d2FyZQBNYXRwbG90bGliIHZlcnNpb24zLjQuMywgaHR0cHM6Ly9tYXRwbG90bGliLm9yZy/MnkTPAAAACXBIWXMAAAsTAAALEwEAmpwYAABGKElEQVR4nO3deVxU2Z3//9eHTRQVdwVERUGEwn1rd9z3fenO1nanJ2bpzizJ9zvpTOaRzi/zzfwyM99JJpN0OrGXpHuSdFTccN/RXtxwBVQUd3HfdxA53z/qUo0KAlrUrVv1efrgYdWtQ/FGoT51zj33HDHGoJRSSjlNiN0BlFJKqWehBUwppZQjaQFTSinlSFrAlFJKOZIWMKWUUo6kBUwppZQjaQFTSinlSFrAlFJKOZIWMKWUUo6kBUwppZQjaQFTSinlSFrAlFJKOZIWMKWUUo6kBUwppZQjaQFTSinlSFrAlFJKOZIWMKWUUo6kBUwppZQjaQFTSinlSFrAlFJKOZIWMKWUUo6kBUwppZQjaQFTSinlSFrAlFJKOZIWMKWUUo6kBUwppZQjaQFTSinlSFrAlFJKOZIWMKWUUo6kBUwppZQjaQFTSik/IyL/ICJ5IpIrIh+LSKSIJIjIdhEpEJF5IhJhta1j3S+wHm9nc3yf0QKmlFJ+RETigL8Fehlj0oBQ4CXg34BfGmMSgWvAa9anvAZcs47/0moXFLSAKaWU/wkD6opIGFAPOAcMAzKsxz8Epli3J1v3sR4fLiLiu6j20QKmlFJ+xBhTCPxf4BTuwnUD2AVcN8aUWM3OAHHW7TjgtPW5JVb7pr7MbJcwuwOop6vXrJ5p3a414YT77Gs+oJjb3CaEEKJp5LOvGwhucZOHPKQRje2O4igllHCLm0QQQRT1ffq1r3GVc7vOXzbGNH+e5+ncpIm5/eBBle1O3L6dB9wvd2iuMWZu2R0RaYy7V5UAXAcWAGOeJ1ug0gLm5xq1i2ZL9mZaEePTr7uKFWzlc77MV+lEik+/tpMtJ5NccniTH9kdxTHucY/f8mtCCePbvE4d6vj06/+Mn/LP8tbJ532eOu3bk5OdXWU7EblvjOn1lCYjgOPGmEtW+0XAAKCRiIRZvazWQKHVvhCIB85YQ47RwJVn/06cQ4cQVYVGMppWxLCERdzkpt1xVIAyGJaymFvcYiazfF68/NQp4AURqWedyxoOHAA2ATOsNrOBpdbtTOs+1uMbjTHGh3ltowVMVSiMMGbyIg94wEIWUEqp3ZFUANrFTg6QxwhGEUdru+P4BWPMdtyTMXYDObhfp+cCPwC+JyIFuM9xvW99yvtAU+v494A3fR7aJjqEqCrVnOaMYwJLWcynfMJghtgdSQWQi1xkFSvpQCL9GWB3nOd2Iz+f5enpXnkuY8xbwFuPHT4G9Kmg7X1gple+sMNoD0w9VQ964iKNjaznjHuik1LP7QEPWMA8IohgGtMJ0Zci9Qy0B6aeShAmMYUznGEB8/k2rxNJpN2xlMOtZQ0XOM9XeZkGNLQ7jldEJyczISur6obBcYmWT+jbHlWlutRlBrO4zjWWk2l3HOVw+RxiO1t5gf50JNnuOMrBtICpamlLW9IZxn72sZc9dsdRDnWTmyxmIa1oxShG2x1HOZwOIapqG0I6xzjKcjKJpw1Ng+Nif+UlpZSyiAwe8ICZvERYgL383MnPZ7uXJnGo6tEemKq2EEKYzkxCCSWDeZRQUvUnKWX5jE85xlHGMZ7mPNeiF0oB2gNTNdSIRkxiCvP4mI2sZ5SucKOq4Qyn2cA6XKTRg6ctQuFcUcnJ9NVJHD6lPTBVYy7S6EVvPuNTjlJgdxzl5+5znwzm04CGTGIKgr6AK+/QAqaeyRjG0YxmLGQBd7hjdxzlx1awjGtcYwYzqUtdu+OoAKIFTD2TCCKYyYvc5z6LWYghKJZeUzW0j73sYy/pDKUt7eyOowKMngNTz6wVMYxiDCtZ7rmuR6kyV7nCcjJpQ1sGk253nFpXnJ/PSZ2F6FPaA1PPpS8v0JFk1rKG85yzO47yEw95yALmIwgzmEUooXZHUgFIe2DquQjCVKbzNv/NAubxTb5DBBF2x1I228h6CjnDi3yJRkGyKWpEcjJtdRaiT2kPTD23KKKYzkwucYnVrLQ7jrLZMY7yKZ/Qk164SLM7jgpgWsCUV3QgkYEMItva30kFpzvcYSELaEozxjLe7jgqwOkQovKaYYzgGMdYymLiiCM6SIaOlJvBsIRF3OUuX+XloBtKLj2cz51R6XbHCCraA1NeU7aL80MekqG7OAedHWwnn0OMZDQxxNodRwUB7YEpr2pKUyYwiUVksIUs0hlmdyTlAxc4zxpWkURH+gXp5RQhHZOJWptVdUOdxOE12gOrIRH5QEQuikhuuWPzRGSv9XFCRPZW8rknRCTHapfts9A+1pVudKErWWziFCftjqNqWdnuypFEMpXpulSUF4hIIxHJEJFDInJQRPqJSBMRWSciR6y/G1ttRUT+W0QKRGS/iPSwO7+vaAGruT/CoyvYGmNeNMZ0M8Z0AxYCi57y+UOttoG5oinuqfUTmEQ00WQwn3vcszuSqkWrWclFLjKNGdSnvt1xAsWvgNXGmE5AV+Ag8CawwRiTBGyw7gOMBZKsjznAO76Paw8tYDVkjNkCXK3oMRERYBbwsU9D+aFIIpnBi9zkJstYqktNBaiDHGAnOxjAQBJJsjtOQBCRaGAw8D6AMabYGHMdmAx8aDX7EJhi3Z4MfGTctgGNRCTGp6FtoufAvGsQcMEYc6SSxw2wVkQM8HtjzFzfRfO9eOIZynA2sI5EkuhBT7sjKS+6wQ2WsIgYYhnOSLvj2O9YPryY7o1nSgAuAX8Qka7ALuDvgJbGmLLlbs4DLa3bccDpcp9/xjoW8EvjaA/Mu77E03tfA40xPXB3+V8XkcEVNRKROSKSHQjnyQYxmHYksJLlXOay3XGUl5RSykIW8JCHzOTFgNtduZY1K/v9tj7mPPZ4GNADeMcY0x24wxfDhQAYYwzosIb+1HmJiIQB06DyboYxptD6+6KILAb6AFsqaDcXmAsQ2yvG0T+kIYQwg5m8za9ZwDy+wTf1xS4AfMIWTnCcqUynGc3sjuMf2ifDvKyq282Xy1WcAz8DnDHGbLfuZ+AuYBdEJMYYc84aIrxoPV4IxJf7/NbWsYCnPTDvGQEcMsacqehBEYkSkQZlt4FRQG5FbQNNQ6KZwjTOcZYNrLM7jnpOpznFJjaQRme60d3uOAHHGHMeOC0iydah4cABIBOYbR2bDSy1bmcCL1uzEV8AbpQbagxo+la4hkTkYyAd9zDAGeAtY8z7wEs8NnwoIrHAe8aYcbjHqxe753kQBvzFGLPal9ntlEIqvenDZ3xKBxL1hL9Dle2u3JCGTGSyTpmvPd8F/iwiEcAx4FXcHY75IvIacBL3hDGAlcA4oAC4a7UNClrAasgY86VKjr9SwbGzuH+wMMYcwz0dNmiNYRwnOMEiMvgO39Up1w60nExucIOv8ze6u/LjTuXDd9K98lTGmL1ARcOMwytoa4DXvfKFHUaHEJXPhBPOLN3F2bH2sof97COdobShrd1xlNIemPKtlrRiNGNYwXK2sTVolx1ymivW7sptaRcUuys/kzbJ8Nusqtu9o8Ou3qI9MOVzfTy7OK/WXZwdwL048zxCCGE6MwnRlw3lJ/QnUflc2S7O9ajHAuZRTLHdkdRTuHdXLmQyU4Nmd2XlDFrAlC2iiGIaM3QXZz+nuysrf6bnwJRtOpDIAAbxGZ+QSBKpuOyOpMr5Ynflprq7cnUU5sOP0u1OEVS0B6ZsNZwRxBLLUhZzgxt2x1EWg2Epi7nLXWbyYtDtrqycQXtgylZluzi/w9ssZAGv8HWdJOAHdrKDQxxkDON0d+XqikuGn2VV3e5fdRait+grhbJdU5oxnomc4DifPLk0pPKxi1xgNStJJIkX6Gd3HKUqpQVM+YVudKczXdjEBk4/sjOE8qWy3ZXrUIdpzNDesPJrOoSo/ELZLs6nOUUG8/g2bxBJpN2xgs5a1nCBC3yVl3Wpr5q6kA+/SLc7RVDRt1fKb9SlLtOZxXWus4JldscJOvkcYru1OkpHkqv+BKVspj0w5Vfa0pZ0hrGJDSSSRFe62R0pKNziJotZSCtaMZLRdsdxppbJ8L2sqtt9XydxeIv2wJTfGcwQ2tCW5WRylat2xwl4pZSyiIU84IHurqwcRQuY8juhhDKDmQhCBvN5yEO7IwW0rXzOUQoYwzia08LuOEpVm77VUn6pEY2ZxBTm81c2sZERjLQ7UkA6SyHrWUsKqfSit91xnO1yPvwh3e4UQUV7YMpvpdGZ7vTgEzZznON2xwk4xRSzgPlEEcVkpuruyspxtAem/No4JnCKkyxkAd/hDepRz+5IAWMVK7jKFWbzdf139YZmyfBqVtXtvq5vFLxFe2A1JCIfiMhFEcktd+wnIlIoInutj3GVfO4YEckXkQIRedN3qZ2rDnWYwSxuc4tMluguzl6SRy67yGYgg2hPe7vjqAqISKiI7BGR5db9BBHZbr1+zBORCOt4Het+gfV4O1uD+5AWsJr7IzCmguO/NMZ0sz6e2B9EREKBt4GxQCrwJRFJrdWkASKO1gxnJAfIYzfZdsdxvBtcJ5MlxBHHMEbYHUdV7u+Ag+Xu/xvu15lE4BrwmnX8NeCadfyXVrugoAWshowxW+CZ5nb3AQqMMceMMcXAX4HJXg0XwAYwkATas5IVXOaS3XEcq5RSFpLBQx4ygxcJJdTuSKoCItIaGA+8Z90XYBiQYTX5EJhi3Z5s3cd6fLjVPuDpOTDveUNEXgayge8bY6499ngcPLLI3xmgr6/COZ17O/sZvM2vWcB8vsE39XqlZ/AJWzjBcaYynaY0tTtOYLmeD4vTvfVs/wX8I9DAut8UuG6MKbHun8H9mgLlXluMMSUicsNqf9lbYfyV9sC84x2gA9ANOAf85/M8mYjMEZFsEdHxsnIaEs0UpnGOs2xgvd1xHOc0p9nEBtLoTDe62x0nmDUr+/22PuaUf1BEJgAXjTG7bMrnGPoW1guMMRfKbovIu8DyCpoVAvHl7re2jlX0fHOBuQCxvWJ01kI5ZdcruXdxTqQDiXZHcoQiiljIfBrQkIlM1inztaFRMkzNqkZDuWyM6fWUBgOASdZksEigIfAroJGIhFm9sPKvH2WvLWdEJAyIBq4843fhKNoD8wIRiSl3dyqQW0GznUCSNZMoAngJyPRFvkAzhnE0ozmLyOAOd+yO4wgrWMY1rjGDmdSlrt1x1FMYY35ojGltjGmH+3ViozHmK8AmYIbVbDaw1Lqdad3HenyjMSYo3vhqAashEfkY2Aoki8gZEXkN+HcRyRGR/cBQ4B+strEishLcY9PAG8Aa3DOL5htj8mz5JhwugghmMou73GUpi3VqfRVy2M9e9jCYdNrSzu446tn9APieiBTgPsf1vnX8faCpdfx7QNBcoqNDiDVkjPlSBYffr+AYxpizwLhy91cCT0yxVzUXQywjGMUaVpHNTnrTx+5Ifuk611jGUloTTzpD7Y4T2G7nwyfpXn1KY0wWkGXdPgZP/qAbY+4DM736hR1Ce2DKsfrRnw4kspqVXOKi3XH8TimlZLAAg2EGs3TKvAo42gNTjhVCCNOY7plaP4dv6dT6craQxSlOMp2ZNKGJ3XECX/1kGJRVjYY6gcZbtAemHK0BDZnCNM5zjvWsszuO3zjNKbLYRBe66qagKmBpAVOO14kUetOHz/mUoxTYHcd2RRSRwQIa0pAJTLI7jlK1RguYCgijGUtznVoPuKfMX+ca05lJJJF2x1Gq1ugJAxUQIohgBrOYy+/IZDEv8ZWgvFi3bMr8EIbqlHlfu5cPOel2pwgq2gNTAaNsav1BDrIrCFetv851nTKvgor2wFRA6Ud/jnCYVaygHe1oRnO7I/lEKaUsIoNSSpnBTJ0yb4e6ydA5qxoNg29koLZoD8wBdKWJ6iubWh9GGBnMp4SSqj8pAHzKJ5zgOOOZSBNdZV4FCS1gKuA0JJrJTOUsZ9nEBrvj1LpCzrCR9bhI01XmVVDRIUQVkFJx0YOefMonJNGRdiTYHalWFFNMBguoTwNdZd5uD/LhXLrdKYKK9sBUwBrLeBrThIVkcI97dsepFatZyVWuMI0Z1KOe3XGU8intgamAVYc6zGAm7zGX5WQykxftjuRVhzhINjsZwCDa097uOCo8GWKyqtFQe8neoj0wB9jLnqC/OPdZlU0pz2E/+9lndxyvuc1tlrKYVsQwnBF2x3GkhzykgCMUUWR3FPWMtAfmAFv5nO1sox0JpOIihVQa0MDuWI4xiCEc4QjLyaQNbWlEI7sjPReDYTELKaKIV5mlCxjXQAklHKWAA+RxiIMBO7QcLPQn3wFmMosLXCCPPJaTyQqW0Ya2uHCRgotoou2O6NdCCWU6M/ktv2YRGbzC1wlx8ODDTnZwhMOMYwItaGF3HL/3gAcc4TAHyCOfQxRRRCSRJNOJVFwsZIHdEdUz0gLmAM1pQWe6MpyRXOQieeRygFxWsoKVrKA18bhIIxUXjWlsd1y/1IQmjGMCS1jE53zGQAbZHemZXOYSa1hFIkn05QW74/itIoo4wmHyyOUIhymmmHrU8/yetKeDp+fqrZmbxuRTfD/dK8+lqkcLmIMIQkvrzzCGc5lLVjHLYw2rWMMqYokllTRcuGhKM7sj+5Xu9OAw+WxgHYkk0ooYuyPVyEMeksECwghjCtN0yvxj7nOffA5xgFyOcIQSSogiii50xUUa7UjQFUoCjBawGhKRD4AJwEVjTJp17D+AiUAxcBR41RhzvYLPPQHcAh4CJcaYXs+TpRnNGcJQhjCUq1z1FLP1rGU9a2lJK1y4cJFGcx1qQhAmMplTnCSDBXyTbxNOuN2xqi2LTZylkBf5Eg1paHccv3CXu+RziDxyOUoBD3lIAxrQk16kkkZb2vpsuFgkmYjIrOq0rOJ5JB74CGgJGGCuMeZXItIEmAe0A04As4wx10REgF8B44C7wCvGmN3P+G04ihawmvsj8BvcP2Bl1gE/NMaUiMi/AT8EflDJ5w81xlz2dqgmNGEQgxnEYK5znQPkcYA8NrGRjWygOc2tnlkaLWkZtO/eo4hiCtP4Ex+xgXWMYZzdkarlNKfYQhbd6I6LNLvj2OoOdzjIAfLI5TjHKKWUaBrRlxdIxUVr4h19jhMoAb5vjNktIg2AXSKyDngF2GCM+bmIvAm8ift1ZiyQZH30Bd6x/g54WsBqyBizRUTaPXZsbbm724AZPg31mEY0oj8D6M8AbnKTg+SRRx5byGIzm2hKU1KtnlkMsUFXzDqSTG/6sJXPSaYTCX5+DVUxxSwkg2iiGccEu+PY4ha3PD/HJziOwdCEJvRnAC7SiCUuYH6OjTHngHPW7VsichCIAyYD6VazD4Es3AVsMvCRMcYA20SkkYjEWM8T0LSAed/XcXfzK2KAtSJigN8bY+bWdpiGNKQv/ehLP25z2/PO9TM+5RO20IjGuHCRios4Wjv9nWu1jWYsxzjKIhbyOt/1640f17CKa1zlFV7z65zedoMbnqJ1ipMYDM1oxiCG4MJFK2L8qmiVUMAlL++Abb1Z7g5sB1qWK0rncQ8xgru4nS73aWesY1rAVPWJyI9wd///XEmTgcaYQhFpAawTkUPGmC0VPM8cYA5ATM9WXstXn/r0pg+96cNd7nKIA+SRxza28hmf0pBoq2fmIp42AV3MIohgGjN4j7msYgVTmW53pAod4TA72UF/BpIQoOs5lneNa9ZPZS5nrNfkFrQknaGec7n+VLSeUTMRKb9h3dyK3syKSH1gIfD3xpib7lNdbsYYY70RDmpawLxERF7BPbljuNWVf4IxptD6+6KILAb6AE8UMOuHeS5AbK+YWvkhrUc9etCLHvTiHvc8s7ey2cE2PqcBDUghFRdptKVdQBazeNowiCFsIYtOpJBCqt2RHnGXuyxhEc1pEdCrbVzhiqdonaUQgBhrhREXaY7Z0y2MRJqTWY2WcrmqCVwiEo67eP3ZGLPIOnyhbGhQRGKAi9bxQiC+3Ke3to4FPC1gXiAiY4B/BIYYY+5W0iYKCLHGtKOAUcBPfRizUnWpSze6043u3Oc+h8nnAHnsYTc72E4UUZ5iFmhTkdMZymHyyWQJbWhLFFF2R/JYyXLucIev8DVHzZasjrJLQPLI47w10hVHHCMZjQtXUO9pZs0qfB84aIz5RbmHMoHZwM+tv5eWO/6GiPwV9+SNG8Fw/gu0gNWYiHyM+0RqMxE5A7yFe9ZhHdzDggDbjDHfEpFY4D1jzDjc49WLrcfDgL8YY1bb8C08VSSRdKErXehKMcWeYraffWSzk3rUoxMpuEgjgfaOX8YojDCmM4Pf8VuWk8mLfMnuSADkkct+9jGU4cQSZ3ec52YwXOIiudalHhe5ALh7waMZiwsXjfQi/DIDgK8BOSKy1zr2T7gL13wReQ04CcyyHluJewp9Ae5p9K/6NK2NnP3qYwNjTEWvcO9X0vYs7h8sjDHHgK61GM3rIoggjc6k0fmR5XjyyGU3u4gk0lPMOpDo2GLWklYMZTjrWUsO++lMF1vz3OY2y1hKLLEMZoitWZ6HwXCB856e1mUuIQhtaMs4xpOKi4a6DNoTjDGfUvnFYsMraG+A12s1lJ9y5iuO8rlwwkm1Zis+4MEjC6LuZQ91qEMynXCRRiJJjhvyGsBADnGQ5WSSQHvqU9+2LCtYRhFFTGWG44ZrDYZznPUUratcQRDakcALvEAKroBdiLqIExxhtt0xgooWMFVj4YTTiRQ6kUIJJRzjKAfI4yAH2M8+IojwLJSaREciiLA7cpVCCWUq03iHt1nGUl7iy7bMdsslhzxyGcEoWnpmSfs3g+EshdbwYC7XuEYIIbQjgYEMpBOptr4hUIFLC5h6LmGE0ZFkOpLMRCZznGPkkctBDpDDfsIJpyPJuEijI8l+Xcya04KhDGcda8gjlzQ6+/Tr3+EOK1hGLHEMYKBPv3ZNlVJKIWc8Pa0bXCeEENrTgcGkk0Jq0O0QXYd2JPFhNVp+VHUTVS1awJTXhBJKIkkkksQEJnGSE571GfPIJZxwkujoKWZ1qGN35Cf0ZwB55LKCZSTQ3qezElexgvvc5xWm+eXQYSmlnOa05//0JjcIJZQOJDKM4XQihbrUtTumCiJawFStCCWU9nSgPR0Yz0ROcpI8cjxrNIYRRhJJuOhMR5L9ZoWJ8kOJq1nJdGb65OseJp/97COdYbTEexevP69SSjnFKc8WPre4RRhhJJLICEbSiRS/+b9TwUcLmKp1IYSQYP0Zx4RHXhAPctDzguiiM8l0sv0FsSWtGMRgNpNFV7qTSGKtfr0iilhGJs1p4RezDksp9bzhOMgBT9FKIolU0vzi/8gf3eUU2XzX7hhBRQuY8in3yX33n7GMKzcklcshDnmGIV2k2frufjDp5JLLcpbyOn9bq7MqN7GRG1znNebYdilC+aJ1gDxuc9sqWu4h32Q6+eWQrwpuWsCUbUIIoa31ZwxjOWMVszxr63c7i1k44UxkEn/kA7awudaWcjrPebbxOT3pRVva1srXqExFRcsJ5yn9VT3a0ItfV6Plb2o9S7DQAqb8QgghtKEtbWjLaMZyxjPDLfeRYpbmw2HG9nSgC135lC10p7vXlzcyGFawjEgiGclorz53ZZ5WtNLoTBIdtWgpx9ACpvyOu5i5/4xmTIXFrGwCSCdSavUFdxRjOMRBVrOKL/NVrz53Ljmc5ASTmFKrU86/mIjhvsbs8aLl75c3KFUZLWDKrz1ZzE57Lpg9xCHPeZqyF2JvF7OGNGQw6axnLcc4RnsvbX75gAesZQ2tiKEHPb3ynOWVUur5t8ojxzMRo/w1edrT8q6bnGUdP7Y7RlDRAqYco/ww4xjGcppTnmJ2kAOei6bLilmNJl60awcnT7pvZ1tbNfVy73jRr04oO8//gLWNVvHN2J8h56yFvnv0gF27YM4cePdd97Ffj+LqlwcjTSt8KgDeegtG/GQbN7jOb4ZN4/VNIRU+FUBhIcTGVu9bKFsRI4cc8sjhBjesGZ5fDL1q0VKBRAuYciT3BJB2tLVmM57kJLns91w0HUEEnUihM12qt9DwK6/AT37y6DFrW7dwYBi7WcxCDp5dRyquR9vNnev+ACCTyFt7eXxHuPL373Of/2ILiSRxfGOHyp8KWLbs6QXMYLjIBfazn1xyuMZVz8XFw/U6LZ9qSCwjq7VD0r/UepZgoQVMOd7j15md4Di51iSF/eyjLnVJxUVnutCOhIo353y8eD2mC13ZwmY2sZEUUp+6TmJk8bWnPtcOtnOXu9Wa2ThpEk8UQ3BvApnDPnLI4RIXrX+D9gxhCCm4dEUMFRS0gKmAUtb76EAi45nIUQrIJYcc9rOLbOpTn850oQtdiSXui0IUGwtnzz71eYeQziIyOEw+yXR65PF73GMda8hmJ6ZJPT7gPUYzhjhaP9LuAQ/YymckkvTEY1W5xU1yyCGHfRRaG+62pR0TmEgqabpgrgo6WsBUwAojjGQ6kUwnHvCAfA6Rwz52sJ2tfE5Tmlqbd3aj6bmqN7DtTBfWs47P+eyRAlZEER/wLpe4RDOac1kucZUrvM+7fI1XSCDB03Yfe7jDHQYxuFrfQ0T9IvaQxz72cpxjGAwxxDCKMXSmM9E0qvG/i1KBQguYCgrhhHs257zHPc/wYhab2MRG4j97ma5sJ43OlU5pDyWUvrzAOtZwgfOeNQvXsYaLXORrzOYQBzl1+Q5vNvsu7/F7FrKAv+XviSACg2EbW4khhnblitrjHvKQYxxlL3t489pBFvOAxjRhMEPoQjea07xW/o3U87nGBTL4T7tjBBUtYCro1KUuPelFT3pxgxvsZx/7WmSwnExWsYJOpNCdHnQg8YlV4XvSi01sYDvbmMQUrnONbHbSmz4kksQhDhIWBvWox2Sm8j7vspMdDGAgJzjORS4yhWkVnkO7xEV2s5v97OUWt6hLXXqFdacr3YinjS37kynlz7SA1ZCIfABMAC4aY9KsY02AeUA74AQwyxjzxJl8EZkN/LN19/8YY6qzeZCqRdFEM4jBDEwcxDnOspe97GcveeTSgAZ0pwc96OlZhaMe9ehMF/azj1GMYTvbAR4ZEmxUchnAM0tyO1vpR392soO61KUzXTxtiygilxx2s4vTnCKEEJLoSHd6uC8FkLAKJ3Eo/9OYlszg+9Vo+b+qbCEiY4BfAaHAe8aYnz9nvICkBazm/oh7MbPyu9K9CWwwxvxcRN607v+g/CdZRe4toBdggF0ikllRoVO+J3O+SezcucQSxyhGc5h8drOLT9jCFjbTng70pg+dSKEPfdnDbnaygz3sohMpRNOI+9znFre426we17hKY5rwAv2Yx8fsIpsD5NGXfoQTzjnOspMd7GcfxRTTnOaMYgzd6K6TMYKciIQCbwMjgTPATuu14oC9yfyPFrAaMsZsEZF2jx2eDKRbtz8EsnisgAGjgXXGmKsAIrIOGAN8XFtZVQ28+67nAqwwwkjFRSoubnKD3exiF7uYx8fUpz496UUDGrKONQC0Iob/4UOOUkAppQD8kv+kOc3pSnfq8oBLxd8jKsxFREg4c/kdZzhNGGGk0Zme9KaNDhGqL/QBCowxxwBE5K+4X2O0gD1GC5h3tDTGlE1jOw+0rKBNHHC63P0z1jHlxxoSTTrDGEw6RzjMTnawhc08NHBHogjlIRtZT0Ma0p+BHCafUzeuMS16FLnksJ41fG/Kf5C3EqbHfMafT0YRTRvGMp5udK/yeq0JE3z0jarndpnLfMB73niqil4r+nrjiQONFjAvM8YYEXmusxYiMgeYAxDT03925w1mIYR4Fr29wXXOcYHbRNGA2wD0pR/d6UExRZx4cIte9CaaaG5wlYfHIFTg7HmoSxH9GUAXulZrAd1ly2r7O1M2aCYi2eXuzzXGzK20taqUFjDvuCAiMcaYcyISA1ysoE0hXwwzArTGPdT4BOuHeS5AbK8YPYXvC4WFlT50l7vsYy/Z7OASl6hLXYRwWpmLlBBKjMSyjjWsZy0GQ1Qjw8/5GcUU04AGHFuSRKdXjnDvH+qyiw5ksoQ1rKIb3elFH1pW2GF3mzhRi5hTNKMZX+dvqmz3Gt+4bIzp9ZQmhUB8ufutrWPqMVrAvCMTmA383Pp7aQVt1gD/KiKNrfujgB/6Jp6q0q5djyw66N4364Rn8kUJJbQmnqlMJ5FE/kt+QXPiOEshKaQwnZnkkcsednE97Drd6E5HkmlMY37d/hZxW1pTyBmmMZTGNGYnO8hmJ9vZRmvi6UUvXHR+YrHd5ct9/Q+h/MBOIElEEnAXrpeAL9sbyT9pAashEfkYd0+qmYicwT2z8OfAfBF5DTgJzLLa9gK+ZYz5G2PMVRH5F9w/nAA/LZvQofyAtejgda6zlz3sYTfXuEokkfSgJz3pRQzuAreVz3nAAyYxmXWsJZtsBjGEoQzjDrfJupzDhGaTAFjFCkII4ct8hT/wPjvYzhy+ZS1CPJ697GEX2SxhMStZgYs0utODtrTTSR1ByhhTIiJv4H7TGwp8YIzJszmWX9ICVkPGmC9V8tDwCtpmwxdjCsaYD4APaimaekZFFHHg5c7s5X1OcByDIYH2DGUYqbgeOVdlMOxkO62JJ5Y4+vICf+FP5JFLF7o+8rz3uMduduEijQY0pBd9WM1KznGWGGKJIooBDKQ/AzjFKfawi1xy2MNuGtOErnSjcftu4OWdoJX/M8asBFbancPfaQFTQekhDzlKAfvYyyEO8uDDiTThOukMoxvdaEyTCj/vGEe5zGWmMQOAjiTTghZsYP0TC/xuYiNFFDGQQQB0pwcbWMd2tjGFaZ52gtDW+jOOCRwgj73sYTObeOPoRt6lDV3piovORBFVS/8i6nld4Br/SYbdMYKKFjAVNAyGU5wih33kksNd7lKXunSjO12XniR+8nerHLbbyudEEYWLNMA9O3ECk/gD7/MnPqIhDanX7C4bWM82PqcvL3iGHutSl650Yy97GMnoCotRBBF0ozvd6M4NbvDu9n0U9d3LcpaxkhUkkkQXuurmlEqhBUwFOIPhAuetDR/3c53rhBHm2ewyiY7uzS4nV/1cl7jIYfJJZ9gjuz23I4HpzGQpiznJCQA2s4mudGM0Yx95jn7090zeGPbkqPMjoonmf78wGGMGc55z7GMfOeznMPmEE+75HhJJqnrDTlXrWtKY71s986epeiEpVV36U68C0mUukcN+csjhMpcIIYQOJDKMEaSQ+mTvRaTinSPL2cJmwgmnLy888VgXutKeDnzAu5y9c4PvRv1Nhft9NacFnejEdrYygIHV7kW1IoZWxDCSUZziJPvZxwHyyGE/kUSSios0upBAwhMLECsVqLSAqYBxlavkkkMu+znPeevcUjv60Y9U0p7r/NFlLrGfffSjf6XPU5/6tKcDp+7lEBdV+WaVQxjK73mHbXzOEIbWKEcIIbQjgXYkeDbszGE/eeSym11EEWUVs860pV3Fu08rFSC0gClHu841cskllxzOWtd6tiaeMYwjjc40pKFXvs4G1hNOOAOruRHl08TRmk504jM+pTd9K91/DCAzs/LnCSWUjiTTkWQe8IAjHCaXHPayh53soD71cdGZNNKIp40Ws1p2lpv8mHV2xwgqWsCU49zgOnnkkUsOZ6wl42KJZRRjSCONRjSu4hkq8JRFB09zijxySWdotVaKjwivevGU4Yzit/yazWxiLOMrbdezZ5VPBbg37CxbgLiYYvI5RC457GIn29lKQxriIg0XnWlNay1mKiBoAVOOcIMb5JFLHrmc5hTgPi80glGkkebZr+uZ9ezpPg9WJtu9VF1p716s+nw29dtGM+APn8A/jXCv2HHOWru5Rw/3Kh5z5rhXtP/1KMJe6lXRU9Gr3OJBb73Vkh4/6clnD7bxtbQ+XDnc/ImnKlPT/cAiiKAzXehMF4oo4hAHySOHHWxnK58TTbRVzNJoTbxeMO0lsTTkp4ysst2/+CBLsBCju+X5tdheMWZ39m5aEWN3FJ+7wQ0OWD2tL4pWK1ykkUZnmtKs1jPsYTeLWchUptOdHlW2X04mueTwJj+qsu1tbvMrfkE8bfgas2u9kNznPoc4SC45HKWAhzwkmka4cHl6ZsFYzH7GT/lneWtXFesTVqlXr14mOzu7ynYi8txfS7lpD0z5lYqKVktaMYwRpNGZZj4oWmXucY+1rCaeNnSlm9efvz71GcYIVrGCA+R5ri2rLZFEeq4xu8c9zzDjdrbxOZ+VK2baM1POoAVM2a7snFb54cEvilYazWhuS651rOEud3mZV2rtnJF7d+ddrLIuUvbVxcllF3BXXsyiSfUMM+o5M+WftIApW1znmqdolU3EaEUrhjMCl497WhU5yUmy2Uk/BnhW0qgNoYQykSm8x+9ZzzrG4/sdLMsXs/LDjDvYxlY+oyHRuHCRShrxxGsxq8Qp7vJdqh5CVN6jBUz5zDWueopWIWcAiCGG4YwkjTSfnNOqjhJKyGQx0TSqcrUMb4gnnt70YQfb6EIX4mlT61+zMuWHGe9zn3wOkUcOO9nBVj6nAQ08PbM2OjVf2UwLmKpVV7niKVpl12nFEuu92YO1YDNZXOISX+Vlnw3pjWAUhzjEEhbzbV73i6WhIomkK93oSjfuc5/D5JNXbmp+feqTap0z04umoQ31+DVVz834jQ+yBAv7f0tUwLnMZfLI5QC5nMM93TyOOEYyGhdpNKlkpXd/cJ5zfMJmutKNjiT77OtGEskkJvMnPmIzWQxnhM++dnVEEkkXutKFrhRRZBWzXPawmx1s96wAkkoa7Winy1kpn9ACprziEhc912ld4ALgXhFjNGNx4Xq2i4t97CEPWcxC6lHvqRcX15aOJNOVbnzCZlJJrdVzb8+jDnU815kVU+wpZmUrgNSjHinWglYJtNdipmqNFjD1TAyGi1ywilYel7iIIMTThrGMJ5VUomlkd8wa2cJmznGOl/jyU5d3qk1jGc9RCljEQr7Jt/1iKPFpIoggjc6k0ZliiingiHURxH52kU1d6tKJFFyk0Z4Ofv/9PI8TFDGbI3bHCCqB+9OkvM5gOM85a3gwj8tc9iyY24cJpODy2tqDvnaOs2xmE53pQiou23LUox6TmMJf+JNfDiU+TQQRnuWsHvCAAo5wgDwOkMcedhNJJMl0wkUaHUh8ZEsapZ6FFjAvEZFkYF65Q+2BHxtj/qtcm3RgKXDcOrTIGPNTH0V8JgbDWQo9ResqVxGEdiTQj/6k4KrW+oD+rIQSFllDh+OZaHccOpFCN7rzCZvpRKcKt2Xxd+GEk0IqKaRSQglHKSCPXPI5xD72Uoc6dCQZF2kkkkQEEXZHfm7tqMOHJFXZ7qPn/Doi8h/ARKAYOAq8aoy5bj32Q+A14CHwt8aYNdbxMcCvgFDgPWPMz58zhl/QAuYlxph8cC/XICKhQCGwuIKmnxhjfH+xTw2UUsoZznDAKlrXuU4IISTQnoEMJoXUgNraPouNXOA8X+artg0dPm4s4znGURaRwbd43dG9lTDCSKYTyXSihBKOc5w8cjjEQXLYTzjhnmKWREfdabpq64AfGmNKROTfgB8CPxCRVOAlwAXEAutFpKP1OW8DI4EzwE4RyTTGHLAhu1dpAasdw4GjxpiTdgeprlJKOcUpT9G6yU1CCaU9HUhnGJ1I8ZsXd286zSk+YQvd6UEnUuyO41GXukxmGv/DH9nAOsYwzu5IXhFGGEnWn4c85AQnPD9zeeRaj3fERRodSSaSSLsj+x1jzNpyd7eBZxvoycBfjTFFwHERKQD6WI8VGGOOAYjIX622WsBUhV4CPq7ksX4isg84C/wvY0ye72I96iEPOckJ8sjlIAe4zW3CCCORJEYymmQ6BfQLSDHFLCKDhkTbMuuwKkkk0Zs+bOVzkkkhgQS7I3lVKKF0sP6MZyInOekpZgc5YD2eiIs0OpFCXeraHfmpjvKAqdYMXB/6Ol+cuojDXdDKnLGOAdZyN18c71v70WqfFjAvE5EIYBLubv3jdgNtjTG3RWQcsASeHDQXkTnAHICYnq28mu8hDznOMU/Rustdwgl/5F1vsAzhrGU1V7jCK7zmt4V6FGM4SgGLWch3eMNvcz4v9xC1+89YxnOa055idph8QgihPR08xczhQ9jNRKT8mlNzjTFzyzcQkfVARb/8PzLGLLXa/AgoAf5ca0n9nBYw7xsL7DbGPPFWzBhzs9ztlSLyWxFpZoy5/Fi7ucBccG+n8ryByk6iHyCPQxzkHveIIIJkOpGKiyQ6BsRJ9Joo4Ag72E4/+tOe9nbHqVQd6jCNGbzPu6xiBVOZbnekWhdCCG2tP2MYRyFnyLNmMy5lMctYSjsScOHyq0lEHQhnMS2rbCdwuartVIwxT51+KiKvABOA4eaLPbEKgfhyzVpbx3jKcUfTAuZ9X6KS4UMRaQVcMMYYEekDhABXaiNE2TTmsplfRRR5pjGn4iKRJEdPDHged7nLYhbSnBaMYJTdcarUhrYMYjBb2EwnUkgh1e5IPiMIrYmnNfGMYjTnOGudL8tjGZksZxltaIuLNFJJpSHRdkeuddaMwn8Ehhhj7pZ7KBP4i4j8AvckjiRgByBAkogk4C5cLwFf9m3q2qEFzItEJAr3TJ9vljv2LQBjzO9wn2z9toiUAPeAl8q9e3puZasilA27FFNMXepav9yugL+QtDoMhuVkcoc7fIWvOaaIpzOMIxxmKYuJp43f9Dp8SRBiiSOWOIYz0rqQPo8D5LKS5axkOfG0sdZndMbqL8/oN0AdYJ24t/7eZoz5ljEmT0Tm456cUQK8box5CCAibwBrcE+j/8DOc+/eFNyvZl5mjLkDj65OaxWustu/wctreX6xyGouBRzhAQ+IIooudCWVNBJI0KV8ytnPPnLJYQSjiPWc3/Z/YYQxnVn8jrdZwiK+wteCesNJQWhJK2vfuOFc4pLnWsU1rGINq4glzvPmrakfLhr9rIwxiU957GfAzyo4vhJYWZu57KAFzIHucY9DHCSPXM/W8A1oQA96kopLVwavxHWusZxM2tCWgQyyO06NtaAFoxjNSlaQzQ56B8ZEMq9oTnPSGUo6Qz07IBwgl3WsYR1raEUraxsYF81pUSsZ8ksM6ZeLa+W5VcW0gDnEHe5wkAMcII9jHKWUUqJpRB9eIBWXbjRYhVJKWUgGANOZ4dh/qz68QD75rGYVCXSwfeNPf9SEpgxiMIMYzHWuWb81uWxkPRtZT3NaeDbobFmNSRfKf2kBc4ClLOEshRgMjWlCfwaQios4Wgf1MFJNfMannOQEU5lOYz/ezqUqIYQwlem8zX+TwXy+wTd1iPgpGtGY/gygPwO4yQ0OWlNANpNFFptoSlNKKPHK10oOE7KaVT2bV39jvUcLmANc4yqDGIILF62I0aJVQ+c4y0bWk4qLbnS3O85za0hDJjGFeXxMFhsZzki7IzlCQ6LpSz/60o/b3LaKWS5XamcisPIBZ46jBJnZvMoIRhJDrBavGiqmmAzme1Z5D5R/PxdpdKcHW9jMSU7YHcdx6lOf3vThFb4edNdABhLtgamAtpbVXOISL/NqwK3lOI4JnOAEC8kI6FU6apu33tTk34f0w155KlVN2gNTAesw+dZqGwNIpNKZx45VhzpMZyY3uM4KltkdRymf0x6YCki3uc1iFtKSlowI4HNEbWjDEIaSxUY6kkxnutgdKWglR0JWx6rbBcYgtn/QHpgKOAbDEhZRRBEzeNExq208qyGk05p4lrGU61y3O45SPqMFzAECZeKBr+xkO4fJZxSjg+I6n1BCmcFM61q3BZRSanckpXxCC5gKKBe5yGpWkUgSfelndxyfaUJTa0+tE3zKJ3bHUcon9ByYChgllJDBPOpQh6lMD7qeaze6c4TDbGQ9HehAHK3tjhRU8m9D+md2pwgu2gNTAWM9aznPeaYwjQY0sDuOzwnCRCZTnwZkMJ8iiuyOpFSt0h6YCggFFPA5n9GHviTTye44tqlLXaYzkz/yPqtYwRSm2R0paCTXh6wBVbcLrnGB2qU9MOV4d7jDYjJoTnNGMcbuOLZLIIGBDGY3u8gj1+44StUaLWDK0QyGpSzmLneZyYu6LJBlGMOJJY5MlnCDG3bHUapW6BCicrRsdnCIg4xhHK2IsTuO3wgllJnM4h3eZhEZzOZVx24h4xT5NyBdF0TxKf2JVo51yZoy34FEXgiiKfPV1ZRmjGM8xznGZ3xqdxylvE57YMqRSihhAfMJJ5xpTNfeRSW605MjHGED62hPe51aX4uSoyFrYtXtdBKH9+hvvReJyAkRyRGRvSKSXcHjIiL/LSIFIrJfRHrYkTMQuKfMn7OmzDe0O47fEoRJTNGp9QFIRL4vIkZEmln3K319EZHZInLE+phtX2rv0gLmfUONMd2MMb0qeGwskGR9zAHe8WmyAFHAEc+U+U6k2B3H75VNrb/KVVaxwu44ygtEJB4YBZwqd7jC1xcRaQK8BfQF+gBviUhjnwauJVrAfGsy8JFx2wY0EhGdeVADd7jDIjJoTgtGM9buOI6RQAKDrKn1ueTYHUc9v18C/wiYcscqe30ZDawzxlw1xlwD1kFgXG+i58C8ywBrRcQAvzfGzH3s8TjgdLn7Z6xj53yUz9EMhsUs5D73eZlXA36VeW8bynCOcpRMltCaeBrRyO5IASX/CqR/WPtfR0QmA4XGmH0ij5xRq+z1pbLjjqc9MO8aaIzpgbsr/7qIDH6WJxGROSKSXdF5tGC2w1plfiSjaUUru+M4TtnUel213nbNyn6/rY85jzcQkfUiklvBx2Tgn4Af+z62/9EemBcZYwqtvy+KyGLc481byjUpBOLL3W9tHXv8eeYCcwFie8WYxx8PRhe4wBpWkURHnTL/HJrQlAlMYhEZfMJmhjDU7kgBI7kpZFVjeoS8wuVKzpF7GGNGVPi5Ip2BBKCs99Ua2C0ifaj89aUQSH/seFbVSf2f9sC8RESiRKRB2W3cJ1gfX8cnE3jZmi30AnDDGKPDh1V4wAMWBPEq897WlW50pgub2MjpR+YAKH9njMkxxrQwxrQzxrTDPRzYwxhznspfX9YAo0SksTV5Y5R1zPG0gHlPS+BTEdkH7ABWGGNWi8i3RORbVpuVwDGgAHgX+I49UZ1lLau5yAWmMYP61Lc7juOVrVrfkIZkMJ/73Lc7kvKOCl9fjDFXgX8BdlofP7WOOZ4OIXqJMeYY0LWC478rd9sAr/syl9Plc4jtbKMf/Umio91xAkYkkUxnFh/wLitYxnRm2h3J8fLPQ/p/+PZrWr2wstuVvr4YYz4APvBRLJ/RHpjyW7e4xRIW0YpWjGCU3XECTlvaks5Q9rGXfey1O45SNaY9MOWXSillERkUU8wMXtQp87VkMOkc5SjLySSeNjShid2RHCu5FWT976rbyT/WfpZgoT0w5Ze28jlHKWAM42hBC7vjBKxQQpnBTAQhg/k85KHdkZSqNi1gyu+cpZD1rCWFFHrR2+44Aa8RjZnIZM5wmiw22h1HqWrTAqb8SjHFZDCfKKKYzDSdMu8jnelCd3qwhc0c57jdcZSqFj0HpvzKKlZwhSvM5uvUo57dcYLKOCZwipMsZAHf4Q3996+h/EJI/ye7UwQX7YEpv5FHLrvIZiCDaU97u+MEnTrUYQazuM0tMlmCQReBUf5Ne2DKL1znOktZTBytGcZwu+MErThaM4JRrGU1u8jWc5A1kBwHWf9adTv5/2s/S7DQHpiyXfnFZWcyi1BC7Y4U1PozgPZ0YBUruMQlu+MoVSktYMp2W8jiJCeYwCSa0NTuOEEvhBCmMYNwwlnAPEoosTuSUhXSIURlq1OcJItNdKEr3ehudxxlaUhDpjCNv/An1rGWsYyzO5Lfyz8J6d+wO0Vw0R6Yss197pPBAqKJZgKT7I6jHtOJFPrQl618xhEO2x1HqSdoD0zZwmBYxlJucoPX+AaRRNodSVVgNGM5wQkWkcHr/K3uBvAUyW0h692q28l7tZ8lWGgPTNliL3vIYT9DGUY8beyOoyoRTjgzeZEiilhEhu7irPyKFjDlc1e4zAqW0Y4EBjHE7jiqCi1pyRjGUsARtrHV7jhKeegQovKpEkpYwDxCCWU6MwnR91CO0Ju+FFDAOtaQQAIxxNodye/kH4X06XanCC766qF8agPrOctZJjOVaKLtjqOqSRAmM5V61GMB8yim2O5ISmkPTPnOUQr4jE/oRW9ScdkdR9VQFFFMZyYf8gdWsYLJTLU7kl9J7gBZC6tuJ7o+tddoD8xLRCReRDaJyAERyRORv6ugTbqI3BCRvdbHj+3Iaoc73GEhC2hOc8boNUWO1Z4ODGQQu8gmj1y74wQtEfmuiByyXmv+vdzxH4pIgYjki8jocsfHWMcKRORNe1J7n/bAvKcE+L4xZreINAB2icg6Y8yBx9p9YoyZYEM+2xgMi1nIfe7zMq8QQYTdkdRzGMYIjnHMs3ZlIxrZHSmoiMhQYDLQ1RhTJCItrOOpwEuAC4gF1otIR+vT3gZGAmeAnSKSWcFrk+NoD8xLjDHnjDG7rdu3gINAnL2p/MN2tnGYfEYxmlbE2B1HPadQQpnJLAxGd3G2x7eBnxtjigCMMRet45OBvxpjiowxx4ECoI/1UWCMOWaMKQb+arV1PO2B1QIRaQd0B7ZX8HA/EdkHnAX+lzEmz5fZfO0851nLajqSTF/62R1HeUkTmjKBSSxkAVvYzFCG2R3Jdvn5kD7UJ1+qIzBIRH4G3Mf9OrIT9xvmbeXaneGLN9GnHzve1xdBa5sWMC8TkfrAQuDvjTE3H3t4N9DWGHNbRMYBS4CkCp5jDjAHIKZnq9oNXIuKKWYBfyWSSKYyXXdXDjBd6UYBR8hiI+3pQFva2h3JKZqJSHa5+3ONMXPLNxCR9UBFv/w/wv263QR4AegNzBeRoNxATwuYF4lIOO7i9WdjzKLHHy9f0IwxK0XktyLSzBhz+bF2c4G5ALG9Yhy7q+BqVnKJS7zMq0QRZXccVQvGM5FTnCKD+XyHN6hLXbsj2SY5GbI2Vd1OhMvGmF5Pa2OMGVH558u3gUXGGAPsEJFSoBlQCMSXa9raOsZTjjuangPzEhER4H3goDHmF5W0aWW1Q0T64P73v+K7lL5zgDyy2ckABpFIot1xVC2JJJIZzOIWN1nGUt3F2TeWAEMBrEkaEcBlIBN4SUTqiEgC7tGdHcBOIElEEkQkAvdEj0w7gnub9sC8ZwDwNSBHRPZax/4J3Av9GWN+B8wAvi0iJcA94CXrXVRAuWHtrhxLHMOp9I2kChDxxDOMEaxnLYkk0oOndi7U8/sA+EBEcoFiYLb1OpInIvOBA7hnRb9ujHkIICJvAGuAUOCDQDn3rgXMS4wxn8LTT/IYY34D/MY3iezh3l05g4c8ZCazCNMfsaAwkEEcpYAVLKcNbWlGc7sj+Vx+finp6Xdq/etYMwm/WsljPwN+VsHxlcDKWo7mczqEqLxqC5s5wXHGM5GmNLM7jvKREEKYrrs4Kx/Tt8fKa05xiiw20pkuurtyEGpIdFDv4pycHEJWVtWTlXQpKe/RHpjyCvfuyvOJJpqJTNYp80FKd3FWvqQFTD238rsrz2CW7q4c5EYzlha0ZBEZ3Oa23XFUANMCpp6b7q6sygsnnFm6i7PyAT0Hpp7LZd1dWVWgBS0ZwziWk8lWPmcAA+2OVOvy84tJTz9pd4ygoj0w9cx0d2X1NL3pQwoprGctZwNj4QflZ7QHpp7ZetZxjrN8ia/o7srqCe5dnKfxW37NAubzLb5DHerYHavWJCdHkJVV9XqQOgvRe/Qts3omRzjC53xqvctOtTuO8lP1qMd0ZnKVK6xkud1xVIDRAqZq7Da3WUwGLWihuyurKiXQnkEMYQ+7yWG/3XFUANEhRFUjpZR6dleezdcJJ9zuSMoBhjKMYxxlGUtpTTyNaWx3JK/Lz79DenpFWwCq2qI9MFUj29jKEQ4zhrG0pKXdcZRD6C7OqjZoD0xV2znOso41dKITvQNjQ1flQ41pwiSmsIB5ZLGR4Yy0O5JXJSdHkZVV9e+FTuLwHu2BqWpx7648j3rUY4rurqyeUWe60J0ebGEzxzludxzlcFrAVLWsZDlXuMJ0ZlGPenbHUQ42jgk0oQkLWcBd7todRzmYFjBVpVxy2M0uBjGY9rS3O45yuDrUYSYvcofbLGWx7uKsnpmeA1NPdY1rZLKE1sQzlOF2x1EBIpY4RjCKNawimx0BcU41P/8G6el6rZsvaQ9MVeohD8lgPgbDDGYRSqjdkVQA6Ud/OpDIKlZykQt2x1EOpD0wLxKRMcCvgFDgPWPMzx97vA7wEdATuAK8aIw54euc1ZXFJk5zihnMoglN7I6jAkwIIUxjhrXU1Dzm8G1HX1eYnBxNVtaEKts97yxEEekG/A6IBEqA7xhjdoiI4H79GQfcBV4xxuy2Pmc28M/WU/wfY8yHz5fCP2gPzEtEJBR4GxgLpAJfEpHH11h6DbhmjEkEfgn8m29TVt8JjrOFLLrRnS50tTuOClANaMBUpnOBC6xhld1xnOLfgf/PGNMN+LF1H9yvPUnWxxzgHQARaQK8BfQF+gBviUhAXEmuBcx7+gAFxphjxphi4K/A5MfaTAbK3vlkAMOtd01+5S53yWABjWnCeCbaHUcFuI4k048B7GA7hzhodxwnMEBD63Y0cNa6PRn4yLhtAxqJSAwwGlhnjLlqjLkGrAPG+Dp0bdAhRO+JA06Xu38Gnjgz7WljjCkRkRtAU+Dy0574Q/5AIx8uvVPIGcA9xPNHPvDZ1w0EhZwhhBB+737zq6rJYAgnnL/wJ+KIAx9eZ1hEkVeeJz//Cunpf/TKc1Xh74E1IvJ/cXdC+lvHK3oNinvKccfTAuaHRGQO7iEAgKI35Ue5duapRc2oong7VKB+XxC431vV+6BU4fbtE2s2b361WTWaRopIdrn7c40xc8s3EJH1QKsKPvdHwHDgH4wxC0VkFvA+MOJZczuZFjDvKQTiy91vbR2rqM0ZEQnD3f2/8vgTWT/McwFEJNsY06tWEtssUL+3QP2+ILC/t+dljPHasJwxptKCJCIfAX9n3V0AvGfdruw1qBBIf+x4lpei2krPgXnPTiBJRBJEJAJ4Cch8rE0mMNu6PQPYaIzRqziVUjVxFhhi3R4GHLFuZwIvi9sLwA1jzDlgDTBKRBpbkzdGWcccT3tgXmKd03oD9w9GKPCBMSZPRH4KZBtjMnF39f9HRAqAq7iLnFJK1cQ3gF9Zozj3+eJ0w0rcU+gLcE+jfxXAGHNVRP4F95tsgJ8aY676NnLtEO0A+DcRmfP4+HigCNTvLVC/Lwjs7005jxYwpZRSjqTnwJRSSjmSFjA/JiJjRCRfRApE5E2783iLiJwQkRwR2fvYdGLHEZEPROSiiOSWO9ZERNaJyBHrb8etelDJ9/UTESm0/t/2isg4OzMqpQXMT1VzaSonG2qM6RYAU7L/yJOrGrwJbDDGJAEbrPtO80cqXq3hl9b/WzdjzEofZ1LqEVrA/Fd1lqZSNjPGbME9o7S88kuGfQhM8WUmb6jk+1LKr2gB818Bu/wL7rXc1orILmvVkUDT0rr+BuA80NLOMF72hojst4YYHTc0qgKLFjBlh4HGmB64h0dfF5HBdgeqLdaF6oEy1fcdoAPQDTgH/KetaVTQ0wLmv6qzNJUjGWMKrb8vAotxD5cGkgvWKuBYf1+0OY9XGGMuGGMeGmNKgXcJvP835TBawPxXdZamchwRiRKRBmW3cS9rE2iLFZdfMmw2sNTGLF5TVpQtUwm8/zflMLqUlJ+qbGkqm2N5Q0tgsbUNWhjwF2PMansjPTsR+Rj3QqnNROQM7o0Dfw7MF5HXgJPALPsSPptKvq90azdgA5wAvmlXPqVAV+JQSinlUDqEqJRSypG0gCmllHIkLWBKKaUcSQuYUkopR9ICppRSypG0gCmllHIkLWBKKaUcSQuYUkopR9ICppRSypG0gCmllHIkLWBKKaUcSQuYUkopR9ICppRSypG0gCmllHIkLWBKKaUcSQuYUkopR9ICppRSypG0gCmllHIkLWBKKaUcSQuYUkopR/p/JkG5DgjB/sIAAAAASUVORK5CYII=' width=432.0/>\n",
       "            </div>\n",
       "        "
      ],
      "text/plain": [
       "Canvas(toolbar=Toolbar(toolitems=[('Home', 'Reset original view', 'home', 'home'), ('Back', 'Back to previous …"
      ]
     },
     "metadata": {},
     "output_type": "display_data"
    },
    {
     "data": {
      "text/plain": [
       "(-6.2831845279188165,\n",
       " 9.50000008242319,\n",
       " 10.000000000605745,\n",
       " 0.03535426387773536,\n",
       " 0.035353309484955575,\n",
       " 0.04999780461055858,\n",
       " array([ 9.5, 10. ]),\n",
       " array([0., 0.]))"
      ]
     },
     "execution_count": 18,
     "metadata": {},
     "output_type": "execute_result"
    }
   ],
   "source": [
    "Nt = 0\n",
    "Ut = SV.Ut[:,:,:,Nt]\n",
    "Ut = np.copy(SV.U)\n",
    "\n",
    "\n",
    "Uf = rfft2(Ut)\n",
    "W = np.zeros((SV.nx,SV.ny),dtype=dtype_re)\n",
    "W = vorticity2D(Uf,SV)\n",
    "S = streamfunction(Uf,SV)\n",
    "W_d = vorticity2D_fd(Ut,SV)\n",
    "# W_df = rfft2(W_d)*sig\n",
    "# W_d = irfft2(W_df)\n",
    "\n",
    "\n",
    "%matplotlib widget\n",
    "# %matplotlib inline\n",
    "# Xc,XCind = vortexPairCenter(Uf,SV)\n",
    "Xc,XCind = vortexPairCenterVortCentroid(Uf,SV)\n",
    "\n",
    "\n",
    "SV.padx = 180\n",
    "SV.pady = 220\n",
    "padx = SV.padx\n",
    "pady = SV.pady\n",
    "x1 = int(0.5*SV.nx-padx)\n",
    "x2 = int(0.5*SV.nx)\n",
    "# x1 = int(0.5*SV.nx)\n",
    "# x2 = int(0.5*SV.nx+padx)\n",
    "y1 = int(XCind[1,1]-pady*0.5)\n",
    "y2 = int(XCind[1,1]+pady*0.5)\n",
    "\n",
    "shiftx = 0\n",
    "fig, ax = plt.subplots()\n",
    "ax.set_aspect('equal')\n",
    "# plt.contour(W.T,levels = 50,cmap='jet')\n",
    "# plt.contourf(SV.Mesh[0],SV.Mesh[1],Ut[1].T*0.05,levels = 100,cmap='jet')\n",
    "# plt.contourf(SV.Mesh[0],SV.Mesh[1],W*0.05,levels = 100,cmap='jet')\n",
    "plt.contour(SV.Mesh[0],SV.Mesh[1],W_d,levels = 50,cmap='jet')\n",
    "# plt.contourf(S.T,levels = 50,cmap='jet')\n",
    "# plt.contourf(vort.T,levels = 50,cmap='jet')\n",
    "\n",
    "\n",
    "# plt.plot(Xc[0,0],Xc[1,0],'ro',markersize=2)\n",
    "# plt.plot(Xc[0,1],Xc[1,1],'ro',markersize=2)\n",
    "\n",
    "# plt.plot(XCind[0,0],XCind[1,0],'ro',markersize=2)\n",
    "# plt.plot(XCind[0,1],XCind[1,1],'ro',markersize=2)\n",
    "rec = mpl.patches.Rectangle([SV.Mesh[0,x1,y1],SV.Mesh[1,x1,y1]], SV.Mesh[0,x2,y2]-SV.Mesh[0,x1,y2], SV.Mesh[1,x2,y2]-SV.Mesh[1,x1,y1],linestyle= '--',angle=0.0,fc ='none',ec ='r',lw = 1)\n",
    "rec2 = mpl.patches.Rectangle([SV.Mesh[0,x1+padx,y1],SV.Mesh[1,x1,y1]], SV.Mesh[0,x2,y2]-SV.Mesh[0,x1,y2], SV.Mesh[1,x2,y2]-SV.Mesh[1,x1,y1],linestyle='--', angle=0.0,fc ='none',ec ='b',lw = 1)\n",
    "ax.add_patch(rec)\n",
    "ax.add_patch(rec2)\n",
    "plt.colorbar()\n",
    "# plt.clim(-1.8,1.8)\n",
    "plt.show()\n",
    "\n",
    "\n",
    "W_test = W\n",
    "Gamma = (W_test[x1:x2,y1:y2]).sum()*SV.dx*SV.dy\n",
    "xc = np.sum( SV.Mesh[0,x1:x2,y1:y2]*W_test[x1:x2,y1:y2]*SV.dx*SV.dy)/Gamma\n",
    "yc = np.sum( SV.Mesh[1,x1:x2,y1:y2]*W_test[x1:x2,y1:y2]*SV.dx*SV.dy)/Gamma\n",
    "# xc = Xc[0,0]\n",
    "# yc = Xc[1,0]\n",
    "ax = np.sqrt(np.abs(np.sum((SV.Mesh[0,x1:x2,y1:y2]-xc)**2*W_test[x1:x2,y1:y2])*SV.dx*SV.dy/Gamma))\n",
    "ay = np.sqrt(np.abs(np.sum((SV.Mesh[1,x1:x2,y1:y2]-yc)**2*W_test[x1:x2,y1:y2])*SV.dx*SV.dy/Gamma))\n",
    "\n",
    "\n",
    "Gamma,xc,yc,ax,ay,(ax**2+ay**2)**0.5,Xc[:,0],CBV.vortex_pair_rad[:,0,-1]\n",
    "# XCind\n",
    "\n",
    "\n",
    "# XCind,Xc\n",
    "# plt.savefig(\"ouputs/Aug25/plots/LO_init_vort_box.png\", facecolor='none', bbox_inches=\"tight\",\n",
    "#             pad_inches=0.05, transparent=True, dpi=300)\n"
   ]
  },
  {
   "cell_type": "code",
   "execution_count": 141,
   "metadata": {},
   "outputs": [
    {
     "data": {
      "image/png": "[encoded data removed]",
      "text/plain": [
       "<Figure size 432x288 with 1 Axes>"
      ]
     },
     "metadata": {
      "needs_background": "light"
     },
     "output_type": "display_data"
    }
   ],
   "source": [
    "CBV_8 = CBV\n",
    "SV_8 = SV\n",
    "# CBV_12 = CBV\n",
    "# SV_12  = SV\n",
    "\n",
    "%matplotlib inline\n",
    "XCind,Xc\n",
    "t = np.arange(0,SV.T,SV.dt)*(1/0.067**2)/Re\n",
    "N = 800\n",
    "ax = CBV.vortex_pair_rad[0,1]\n",
    "ay = CBV.vortex_pair_rad[1,1]\n",
    "E = ay/ax\n",
    "\n",
    "# plt.plot(t[:N],E[:N])\n",
    "# plt.semilogy(t[:N],CBV_6_5.eulerResidual[1,:N])\n",
    "# plt.semilogy(t[:N],CBV.eulerResidual[1,:N])\n",
    "plt.plot(t[:N],CBV.eulerResidual[1,:N])\n",
    "# plt.semilogy(t[:N],CBV_7.eulerResidual[1,:N])\n",
    "# plt.plot(CBV_8.temp1[:])\n",
    "# plt.plot(CBV_7.temp1[:])\n",
    "# plt.plot(CBV_6_5.temp1[300:])\n",
    "# plt.plot(CBV.temp1[300:])\n",
    "\n",
    "plt.xlim([0,0.04])\n",
    "plt.ylim([1e-3,1e2])\n",
    "plt.grid()\n",
    "plt.show()\n",
    "# plt.plot(CBV.residual[1,:])\n",
    "# CBV.eulerResidual.shape"
   ]
  },
  {
   "cell_type": "code",
   "execution_count": 197,
   "metadata": {},
   "outputs": [
    {
     "data": {
      "text/plain": [
       "(0.0728081377594133,\n",
       " 0.07280812491768232,\n",
       " 3.7190647598450863,\n",
       " 701.5746602155576)"
      ]
     },
     "execution_count": 197,
     "metadata": {},
     "output_type": "execute_result"
    }
   ],
   "source": [
    "# SV.Uf = rfft2(SV.U)\n",
    "# file_out = open(\"ER.txt\",\"a\")\n",
    "\n",
    "SV_i = SV\n",
    "\n",
    "ER = np.zeros(51)\n",
    "for i in range(51):\n",
    "    Nt = i\n",
    "    U  = SV_i.Ut[:,:,:,Nt]\n",
    "    # U = np.copy(SV.U)\n",
    "    Uf = rfft2(U)\n",
    "\n",
    "    # Uf = \n",
    "    Xc,Xcind = vortexPairCenterVortCentroid(Uf,SV)\n",
    "\n",
    "    Wf = vorticity2D_f(Uf,SV_i)\n",
    "    W  = vorticity2D(Uf,SV_i)\n",
    "\n",
    "    Wx_f  = 1j*Wf*SV_i.K[0]*SV_i.fou_filt\n",
    "    Wy_f  = 1j*Wf*SV_i.K[1]*SV_i.fou_filt\n",
    "    Wx    = irfft2(Wx_f)\n",
    "    Wy    = irfft2(Wy_f)\n",
    "\n",
    "    # for i in range(2): U[i,:,:] = irfft2(Uf[i])\n",
    "\n",
    "    pady = SV_i.padx\n",
    "    padx = SV_i.pady\n",
    "    x1 = int(0.5*SV_i.nx-padx)\n",
    "    x2 = int(0.5*SV_i.nx)\n",
    "    y1 = int(Xcind[1,1]-pady*0.5)\n",
    "    y2 = int(Xcind[1,1]+pady*0.5)\n",
    "\n",
    "    # left vortex integrals\n",
    "    Q = np.square(U[0]*Wx + U[1]*Wy)\n",
    "    limits = np.array([[x1,x2],[y1,y2]])\n",
    "    ER_numer = areaIntegral(Q,SV_i,limits)\n",
    "    ER_denom = areaIntegral(np.square(W),SV_i,limits)\n",
    "    ER[Nt] = (ER_numer/ER_denom)**0.5\n",
    "\n",
    "# A = np.sum(np.square(SV_i.U[0,x1:x2,y1:y2]*Wx[x1:x2,y1:y2] + SV_i.U[1,x1:x2,y1:y2]*Wy[x1:x2,y1:y2]))*SV_i.dx*SV_i.dy\n",
    "# B = np.sum(np.square(SV_i.W[x1:x2,y1:y2]))*SV_i.dx*SV_i.dy\n",
    "\n",
    "(ER_numer/ER_denom)**0.5,CBV.eulerResidual[0,-1],ER_numer,ER_denom\n",
    "\n"
   ]
  },
  {
   "cell_type": "code",
   "execution_count": 191,
   "metadata": {},
   "outputs": [
    {
     "data": {
      "text/plain": [
       "(0.027334398756749232, 0.5529564804157256, 0.027438263634627442)"
      ]
     },
     "execution_count": 191,
     "metadata": {},
     "output_type": "execute_result"
    }
   ],
   "source": [
    "SV_i = SV\n",
    "Nt = 10\n",
    "\n",
    "# U  = SV_i.Ut[:,:,:,Nt]\n",
    "# # U = np.copy(SV.U)\n",
    "# Uf = rfft2(U)\n",
    "\n",
    "# U = np.copy(SV.U[:,:,:])\n",
    "Uf_i = np.copy(SV.Uf)\n",
    "U = irfft2(SV.Uf)\n",
    "Uf = rfft2(U)\n",
    "# Uf = np.copy(SV.Uf)\n",
    "\n",
    "# Uf = \n",
    "Xc,Xcind = vortexPairCenterVortCentroid(Uf,SV)\n",
    "\n",
    "Wf = vorticity2D_f(Uf,SV)\n",
    "W  = vorticity2D(Uf,SV)\n",
    "\n",
    "SV.W  = PSNS_2D.vorticity2D(SV.Uf,SV)\n",
    "\n",
    "Wx_f  = 1j*Wf*SV_i.K[0]*SV_i.fou_filt\n",
    "Wy_f  = 1j*Wf*SV_i.K[1]*SV_i.fou_filt\n",
    "Wx    = irfft2(Wx_f)\n",
    "Wy    = irfft2(Wy_f)\n",
    "\n",
    "# for i in range(2): U[i,:,:] = irfft2(Uf[i])\n",
    "\n",
    "pady = SV_i.padx\n",
    "padx = SV_i.pady\n",
    "# x1 = int(0.5*SV_i.nx-padx)\n",
    "# x2 = int(0.5*SV_i.nx)\n",
    "x1 = int(0.5*SV.nx)\n",
    "x2 = int(0.5*SV.nx+padx)\n",
    "y1 = int(Xcind[1,1]-pady*0.5)\n",
    "y2 = int(Xcind[1,1]+pady*0.5)\n",
    "\n",
    "# left vortex integrals\n",
    "Q = np.square(U[0]*Wx + U[1]*Wy)\n",
    "limits = np.array([[x1,x2],[y1,y2]])\n",
    "ER_numer = areaIntegral(Q,SV_i,limits)\n",
    "ER_denom = areaIntegral(np.square(W),SV_i,limits)\n",
    "(ER_numer/ER_denom)**0.5,ER_numer,CBV.eulerResidual[0,-1]\n",
    "\n"
   ]
  },
  {
   "cell_type": "code",
   "execution_count": 150,
   "metadata": {},
   "outputs": [],
   "source": [
    "Uf_latest = SV.Uf"
   ]
  },
  {
   "cell_type": "code",
   "execution_count": 189,
   "metadata": {},
   "outputs": [
    {
     "data": {
      "application/vnd.jupyter.widget-view+json": {
       "model_id": "172dea1fcf774c8286c5926a0590d597",
       "version_major": 2,
       "version_minor": 0
      },
      "text/plain": [
       "Canvas(toolbar=Toolbar(toolitems=[('Home', 'Reset original view', 'home', 'home'), ('Back', 'Back to previous …"
      ]
     },
     "metadata": {},
     "output_type": "display_data"
    },
    {
     "data": {
      "text/plain": [
       "<matplotlib.colorbar.Colorbar at 0x1d751c4a4c8>"
      ]
     },
     "execution_count": 189,
     "metadata": {},
     "output_type": "execute_result"
    }
   ],
   "source": [
    "%matplotlib widget\n",
    "plt.contourf(Uf[0]-Uf_i[0])\n",
    "plt.colorbar()"
   ]
  },
  {
   "cell_type": "code",
   "execution_count": 169,
   "metadata": {},
   "outputs": [
    {
     "name": "stdout",
     "output_type": "stream",
     "text": [
      "0.0728803243376761\n",
      "[[256 346]\n",
      " [211 301]]\n"
     ]
    }
   ],
   "source": [
    "# SV.Uf = rfft2(SV_i.Ut[:,:,:,20])\n",
    "vortexPairEulerResidue(SV,CBV)"
   ]
  },
  {
   "cell_type": "code",
   "execution_count": 144,
   "metadata": {},
   "outputs": [
    {
     "data": {
      "application/vnd.jupyter.widget-view+json": {
       "model_id": "e1a77b74e17941678fd17af9047a54e3",
       "version_major": 2,
       "version_minor": 0
      },
      "text/plain": [
       "Canvas(toolbar=Toolbar(toolitems=[('Home', 'Reset original view', 'home', 'home'), ('Back', 'Back to previous …"
      ]
     },
     "metadata": {},
     "output_type": "display_data"
    },
    {
     "data": {
      "text/plain": [
       "<matplotlib.colorbar.Colorbar at 0x1d5b8cb35c8>"
      ]
     },
     "execution_count": 144,
     "metadata": {},
     "output_type": "execute_result"
    }
   ],
   "source": [
    "%matplotlib widget\n",
    "q = (CBV.temp_ux*CBV.temp_wx+ CBV.temp_uy*CBV.temp_wy)\n",
    "q2 = (CBV.temp_ux*Wx + CBV.temp_uy*Wy)\n",
    "# q = (CBV.temp_ux*CBV.temp_wx) \n",
    "# q2 = (CBV.temp_ux*Wx)\n",
    "# q = ( CBV.temp_uy*CBV.temp_wy)\n",
    "# q2 = ( CBV.temp_uy*Wy)\n",
    "\n",
    "plt.contourf(q.T)\n",
    "# plt.contourf(q2.T)\n",
    "# plt.contourf(CBV.temp_q.T)\n",
    "# plt.contourf(CBV.temp_ux.T)\n",
    "# plt.contourf(CBV.temp_uy.T)\n",
    "# plt.contourf(CBV.temp_wx.T)\n",
    "# plt.contourf(CBV.temp_wy.T)\n",
    "# plt.contourf(CBV.temp_w.T)\n",
    "\n",
    "# plt.contourf(W.T-CBV.temp_w.T)\n",
    "# plt.contourf(U[0].T,levels=10)\n",
    "# plt.contourf(U[0].T-CBV.temp_ux.T)\n",
    "# plt.contourf(Wx.T-CBV.temp_wx.T)\n",
    "# plt.contourf(Wx.T)\n",
    "# plt.contourf((Q).T)\n",
    "# plt.contourf(SV.W.T-W.T)\n",
    "plt.colorbar()"
   ]
  },
  {
   "cell_type": "code",
   "execution_count": null,
   "metadata": {},
   "outputs": [],
   "source": []
  },
  {
   "cell_type": "code",
   "execution_count": 200,
   "metadata": {},
   "outputs": [
    {
     "data": {
      "image/png": "[encoded data removed]",
      "text/plain": [
       "<Figure size 432x288 with 1 Axes>"
      ]
     },
     "metadata": {
      "needs_background": "light"
     },
     "output_type": "display_data"
    }
   ],
   "source": [
    "# t = np.arange(0,SV.T,SV.dt)*(1/0.067**2)/Re\n",
    "\n",
    "\n",
    "plt.semilogy(ER)\n",
    "plt.ylim([1e-3,1e2])\n",
    "plt.xlim([0,60])\n",
    "plt.grid()\n",
    "plt.show()"
   ]
  },
  {
   "cell_type": "code",
   "execution_count": 9,
   "metadata": {},
   "outputs": [
    {
     "data": {
      "image/png": "[encoded data removed]",
      "text/plain": [
       "<Figure size 432x288 with 1 Axes>"
      ]
     },
     "metadata": {
      "needs_background": "light"
     },
     "output_type": "display_data"
    }
   ],
   "source": [
    "%matplotlib inline\n",
    "# XCind,Xc\n",
    "t = np.arange(0,SV.T,SV.dt)*(1/0.067**2)/Re\n",
    "N = 4999\n",
    "ax = CBV.vortex_pair_rad[0,1]\n",
    "ay = CBV.vortex_pair_rad[1,1]\n",
    "# E = ay/ax\n",
    "\n",
    "# plt.plot(t[:N],E[:N])\n",
    "plt.semilogy(CBV.eulerResidual[1,:N])\n",
    "# plt.plot(CBV.temp2[:])\n",
    "# plt.plot(CBV.temp1[:])\n",
    "# plt.xlim([0,0.04])\n",
    "plt.ylim([1e-3,1e2])\n",
    "plt.grid()\n",
    "plt.show()\n",
    "# plt.plot(CBV.residual[1,:])\n",
    "# CBV.eulerResidual.shape"
   ]
  },
  {
   "cell_type": "code",
   "execution_count": 10,
   "metadata": {},
   "outputs": [
    {
     "data": {
      "image/png": "[encoded data removed]",
      "text/plain": [
       "<Figure size 432x288 with 1 Axes>"
      ]
     },
     "metadata": {
      "needs_background": "light"
     },
     "output_type": "display_data"
    },
    {
     "data": {
      "text/plain": [
       "[<matplotlib.lines.Line2D at 0x1c3838fd5c8>]"
      ]
     },
     "execution_count": 10,
     "metadata": {},
     "output_type": "execute_result"
    },
    {
     "data": {
      "image/png": "[encoded data removed]",
      "text/plain": [
       "<Figure size 432x288 with 1 Axes>"
      ]
     },
     "metadata": {
      "needs_background": "light"
     },
     "output_type": "display_data"
    }
   ],
   "source": [
    "%matplotlib inline\n",
    "# XCind,Xc\n",
    "t = np.arange(0,SV.T,SV.dt)*(1/0.067**2)/Re\n",
    "N = 4999\n",
    "ax = CBV.vortex_pair_rad[0,1]\n",
    "ay = CBV.vortex_pair_rad[1,1]\n",
    "# E = ay/ax\n",
    "\n",
    "# plt.plot(t[:N],E[:N])\n",
    "plt.semilogy(t[:N],CBV.eulerResidual[1,:N])\n",
    "# plt.plot(CBV.temp2[:])\n",
    "# plt.plot(CBV.temp1[:])\n",
    "# plt.xlim([0,0.04])\n",
    "plt.ylim([1e-3,1e2])\n",
    "plt.grid()\n",
    "plt.show()\n",
    "plt.plot(CBV.max_val_residual[1,1:])\n",
    "# plt.plot(CBV.residual[1,:])"
   ]
  },
  {
   "cell_type": "code",
   "execution_count": 208,
   "metadata": {},
   "outputs": [],
   "source": [
    "SV_1 = SV\n",
    "CBV_1 = CBV"
   ]
  },
  {
   "cell_type": "code",
   "execution_count": 9,
   "metadata": {},
   "outputs": [
    {
     "name": "stderr",
     "output_type": "stream",
     "text": [
      "F:\\Anaconda3\\anaconda\\envs\\numcomp\\lib\\site-packages\\ipykernel_launcher.py:7: RuntimeWarning: invalid value encountered in true_divide\n",
      "  import sys\n"
     ]
    },
    {
     "data": {
      "image/png": "[encoded data removed]",
      "text/plain": [
       "<Figure size 432x288 with 1 Axes>"
      ]
     },
     "metadata": {
      "needs_background": "light"
     },
     "output_type": "display_data"
    }
   ],
   "source": [
    "%matplotlib inline\n",
    "# XCind,Xc\n",
    "t = np.arange(0,SV.T,SV.dt)*(1/0.067**2)/3142\n",
    "N = 4000\n",
    "ax = CBV.vortex_pair_rad[0,1]\n",
    "ay = CBV.vortex_pair_rad[1,1]\n",
    "E = ay/ax\n",
    "plt.plot(t[:N],E[:N])\n",
    "# plt.semilogy(t[:N],CBV.eulerResidual[1,:N])\n",
    "# plt.xlim([0,0.04])\n",
    "plt.ylim([1,1.2])\n",
    "# plt.ylim([1e-3,1e2])\n",
    "plt.grid()\n",
    "plt.show()\n",
    "# plt.plot(CBV.residual[1,:])\n",
    "# CBV.eulerResidual.shape"
   ]
  },
  {
   "cell_type": "code",
   "execution_count": 41,
   "metadata": {},
   "outputs": [
    {
     "data": {
      "application/vnd.jupyter.widget-view+json": {
       "model_id": "ae6abfa9e0674b4cb10a4961bcb1bfa1",
       "version_major": 2,
       "version_minor": 0
      },
      "text/plain": [
       "Canvas(toolbar=Toolbar(toolitems=[('Home', 'Reset original view', 'home', 'home'), ('Back', 'Back to previous …"
      ]
     },
     "metadata": {},
     "output_type": "display_data"
    },
    {
     "data": {
      "text/plain": [
       "[<matplotlib.lines.Line2D at 0x1f795f04908>]"
      ]
     },
     "execution_count": 41,
     "metadata": {},
     "output_type": "execute_result"
    }
   ],
   "source": [
    "%matplotlib widget\n",
    "\n",
    "# plt.plot(Ut[1,:,256])\n",
    "# plt.plot(Ut[0,512,:])\n",
    "# plt.hlines(0,0,1024,'r')\n",
    "plt.plot(W[:,200])\n",
    "# plt.plot(W_d[:,512])"
   ]
  },
  {
   "cell_type": "code",
   "execution_count": 224,
   "metadata": {},
   "outputs": [
    {
     "data": {
      "application/vnd.jupyter.widget-view+json": {
       "model_id": "022d136feda0426bba48e6974fa82ea3",
       "version_major": 2,
       "version_minor": 0
      },
      "text/plain": [
       "Canvas(toolbar=Toolbar(toolitems=[('Home', 'Reset original view', 'home', 'home'), ('Back', 'Back to previous …"
      ]
     },
     "metadata": {},
     "output_type": "display_data"
    },
    {
     "data": {
      "text/plain": [
       "<matplotlib.collections.LineCollection at 0x236545d0c08>"
      ]
     },
     "execution_count": 224,
     "metadata": {},
     "output_type": "execute_result"
    }
   ],
   "source": [
    "%matplotlib widget\n",
    "\n",
    "plt.plot(Ut[1,:,512])\n",
    "plt.hlines(1,0,1024,'r')\n",
    "# plt.plot(W[:,512])\n",
    "# plt.plot(W_d[:,512])"
   ]
  },
  {
   "cell_type": "code",
   "execution_count": null,
   "metadata": {},
   "outputs": [],
   "source": [
    "%matplotlib inline\n",
    "plt.plot(CBV.max_val_residual[0,1:])\n",
    "plt.show()\n",
    "plt.plot(CBV.max_val_residual[1,1:])\n",
    "plt.show()"
   ]
  },
  {
   "cell_type": "code",
   "execution_count": null,
   "metadata": {},
   "outputs": [],
   "source": [
    "%matplotlib inline\n",
    "a = np.sqrt(CBV.vortex_pair_rad[0,0,1:]**2 + CBV.vortex_pair_rad[1,0,1:]**2)\n",
    "E = CBV.vortex_pair_rad[1,0,1:]/CBV.vortex_pair_rad[0,0,1:]\n",
    "# plt.plot(np.sqrt(CBV.vortex_pair_rad[0,0,:]**2 + CBV.vortex_pair_rad[1,0,:]**2))\n",
    "plt.plot(E)\n",
    "plt.show()\n",
    "\n",
    "CBV.vortex_pair_rad[0,0,SV.it],CBV.vortex_pair_rad[1,0,SV.it],a[-1]"
   ]
  },
  {
   "cell_type": "code",
   "execution_count": 12,
   "metadata": {},
   "outputs": [
    {
     "data": {
      "image/png": "[encoded data removed]",
      "text/plain": [
       "<Figure size 432x288 with 1 Axes>"
      ]
     },
     "metadata": {
      "needs_background": "light"
     },
     "output_type": "display_data"
    }
   ],
   "source": [
    "Uf = rfft2(SV.U)\n",
    "W = vorticity2D(Uf,SV)\n",
    "S = streamfunction(Uf,SV)\n",
    "\n",
    "x = np.arange(514,554,dtype=int)\n",
    "y = np.arange(488,538,dtype=int)\n",
    "X,Y = np.meshgrid(x,y,indexing='ij')\n",
    "\n",
    "W_val = W[X,Y]\n",
    "S_val = S[X,Y]\n",
    "plt.scatter(S_val,W_val,s=1)\n",
    "plt.show()"
   ]
  },
  {
   "cell_type": "code",
   "execution_count": 13,
   "metadata": {},
   "outputs": [
    {
     "data": {
      "image/png": "[encoded data removed]",
      "text/plain": [
       "<Figure size 432x288 with 1 Axes>"
      ]
     },
     "metadata": {
      "needs_background": "light"
     },
     "output_type": "display_data"
    }
   ],
   "source": [
    "Uf = rfft2(SV.U)\n",
    "W = vorticity2D(Uf,SV)\n",
    "S = streamfunction(Uf,SV)\n",
    "\n",
    "x = np.arange(454,504,dtype=int)\n",
    "y = np.arange(488,538,dtype=int)\n",
    "X,Y = np.meshgrid(x,y,indexing='ij')\n",
    "\n",
    "\n",
    "W_val = W[X,Y]\n",
    "S_val = S[X,Y]\n",
    "plt.scatter(S_val,W_val,s=1)\n",
    "plt.show()"
   ]
  },
  {
   "cell_type": "markdown",
   "metadata": {},
   "source": [
    "## Lamb Oseen Rankine comparsion"
   ]
  },
  {
   "cell_type": "code",
   "execution_count": 24,
   "metadata": {},
   "outputs": [],
   "source": [
    "# filepath = r\"ouputs/Aug25/full_data/data_Re_3142_Ran_L12_1024.pkl\"\n",
    "# infile = open(filepath,'rb')\n",
    "# SV_ran  = pickle.load(infile)\n",
    "# CBV_ran  = pickle.load(infile)\n",
    "# infile.close()\n",
    "\n",
    "# filepath = r\"ouputs/Aug25/full_data/data_Re_3142_LO_L12_1024.pkl\"\n",
    "filepath = r\"ouputs/Aug25/full_data/data_rc_0.2_LO_st_nd_L12_1024_re_2400.pkl\"\n",
    "infile = open(filepath,'rb')\n",
    "SV_LO  = pickle.load(infile)\n",
    "CBV_LO  = pickle.load(infile)\n",
    "infile.close()"
   ]
  },
  {
   "cell_type": "code",
   "execution_count": 4,
   "metadata": {},
   "outputs": [],
   "source": [
    "# 4X4 plot\n",
    "index = [0,1,4,9,16]\n",
    "vort_ran = []\n",
    "a_ran = []\n",
    "a = np.sqrt(CBV_ran.vortex_pair_rad[0,0,1:]**2 + CBV_ran.vortex_pair_rad[1,0,1:]**2)\n",
    "for i in index:\n",
    "    U_ran = SV_ran.Ut[:,:,:,i]\n",
    "    Uf = rfft2(U_ran)\n",
    "    Xc,XCind = vortexPairCenterVortCentroid(Uf,SV_ran)\n",
    "    W_ran = vorticity2D(Uf,SV_ran)\n",
    "    vort_ran.append(W_ran[:,int(XCind[1,0])])\n",
    "    if i!=16:\n",
    "        a_ran.append(a[i*500])\n",
    "    else:\n",
    "        a_ran.append(a[i*500-1])\n",
    "\n",
    "\n",
    "index = [0,1,4,9,16]\n",
    "vort_LO = []\n",
    "a_LO = []\n",
    "a = np.sqrt(CBV_LO.vortex_pair_rad[0,0,1:]**2 + CBV_LO.vortex_pair_rad[1,0,1:]**2)\n",
    "for i in index:\n",
    "    U_LO = SV_LO.Ut[:,:,:,i]\n",
    "    Uf = rfft2(U_LO)\n",
    "    Xc,XCind = vortexPairCenterVortCentroid(Uf,SV_LO)\n",
    "    W_LO = vorticity2D(Uf,SV_LO)\n",
    "    vort_LO.append(W_LO[:,int(XCind[1,0])])\n",
    "    if i!=16:\n",
    "        a_LO.append(a[i*500])\n",
    "    else:\n",
    "        a_LO.append(a[i*500-1])\n",
    "\n",
    "# data = {\"vort_500\":}\n",
    "# savemat(filepath,)\n"
   ]
  },
  {
   "cell_type": "code",
   "execution_count": 112,
   "metadata": {},
   "outputs": [
    {
     "data": {
      "image/png": "[encoded data removed]",
      "text/plain": [
       "<Figure size 432x288 with 1 Axes>"
      ]
     },
     "metadata": {
      "needs_background": "light"
     },
     "output_type": "display_data"
    }
   ],
   "source": [
    "t = np.arange(0,SV_LO.T,SV_LO.dt)\n",
    "plt.plot(t,CBV_ran.max_val_residual[1,1:])\n",
    "plt.plot(t,CBV_LO.max_val_residual[1,1:])\n",
    "plt.legend(['Rankine','Lamb-Oseen'])\n",
    "plt.xlabel('$t \\hspace{0.5}\\Gamma/2\\pi b^2$')\n",
    "plt.ylabel('Residual')\n",
    "\n",
    "plt.savefig(\"ouputs/Aug25/plots/LO_Ran_residue.png\", facecolor='none', bbox_inches=\"tight\",\n",
    "            pad_inches=0.05, transparent=True, dpi=300)"
   ]
  },
  {
   "cell_type": "code",
   "execution_count": 102,
   "metadata": {},
   "outputs": [
    {
     "data": {
      "image/png": "[encoded data removed]",
      "text/plain": [
       "<Figure size 432x288 with 1 Axes>"
      ]
     },
     "metadata": {
      "needs_background": "light"
     },
     "output_type": "display_data"
    }
   ],
   "source": [
    "N = 8000\n",
    "plt.semilogy(time[:N],CBV_ran.eulerResidual[1,:N])\n",
    "plt.semilogy(time[:N],CBV_LO.eulerResidual[1,:N])\n",
    "\n",
    "plt.xlabel('$t \\hspace{0.5}\\Gamma/2\\pi b^2$')\n",
    "plt.ylabel('N')\n",
    "plt.legend(['Rankine','Lamb-Oseen'])\n",
    "plt.savefig(\"ouputs/Aug25/plots/LO_Ran_Euler_residue.png\", facecolor='none', bbox_inches=\"tight\",\n",
    "            pad_inches=0.05, transparent=True, dpi=300)"
   ]
  },
  {
   "cell_type": "code",
   "execution_count": 26,
   "metadata": {},
   "outputs": [
    {
     "name": "stderr",
     "output_type": "stream",
     "text": [
      "F:\\Anaconda3\\anaconda\\envs\\numcomp\\lib\\site-packages\\ipykernel_launcher.py:12: RuntimeWarning: invalid value encountered in true_divide\n",
      "  if sys.path[0] == '':\n"
     ]
    },
    {
     "data": {
      "image/png": "[encoded data removed]",
      "text/plain": [
       "<Figure size 432x288 with 1 Axes>"
      ]
     },
     "metadata": {
      "needs_background": "light"
     },
     "output_type": "display_data"
    }
   ],
   "source": [
    "plt.rcParams['font.size'] = '18'   \n",
    "N = 1000\n",
    "t = np.arange(0,SV_LO.T,SV_LO.dt)\n",
    "\n",
    "# ax = CBV_ran.vortex_pair_rad[0,1]\n",
    "# ay = CBV_ran.vortex_pair_rad[1,1]\n",
    "# E = ay/ax\n",
    "# plt.plot(time[:N],E[:N],'--')\n",
    "\n",
    "ax = CBV_LO.vortex_pair_rad[0,1]\n",
    "ay = CBV_LO.vortex_pair_rad[1,1]\n",
    "E = ay/ax\n",
    "plt.plot(t[:N],E[:N])\n",
    "\n",
    "plt.xlabel('$t \\hspace{0.5}\\Gamma/2\\pi b^2$')\n",
    "plt.ylabel('E')\n",
    "plt.legend(['Rankine','Lamb-Oseen'])\n",
    "\n",
    "\n",
    "# plt.savefig(\"ouputs/Aug25/plots/LO_Ran_E_small_time.png\", facecolor='none', bbox_inches=\"tight\",\n",
    "#             pad_inches=0.05, transparent=True, dpi=300)"
   ]
  },
  {
   "cell_type": "code",
   "execution_count": 120,
   "metadata": {},
   "outputs": [
    {
     "data": {
      "text/plain": [
       "[<matplotlib.lines.Line2D at 0x15827c51ec8>]"
      ]
     },
     "execution_count": 120,
     "metadata": {},
     "output_type": "execute_result"
    },
    {
     "data": {
      "image/png": "[encoded data removed]",
      "text/plain": [
       "<Figure size 432x288 with 1 Axes>"
      ]
     },
     "metadata": {
      "needs_background": "light"
     },
     "output_type": "display_data"
    }
   ],
   "source": [
    "plt.plot(CBV_LO.gamma)"
   ]
  },
  {
   "cell_type": "code",
   "execution_count": 10,
   "metadata": {},
   "outputs": [],
   "source": []
  },
  {
   "cell_type": "code",
   "execution_count": 33,
   "metadata": {},
   "outputs": [],
   "source": [
    "Ut = np.copy(SV.U)\n",
    "Uf = rfft2(Ut)\n",
    "Xc,XCind = vortexPairCenterVortCentroid(Uf,SV)\n",
    "W_d = vorticity2D_fd(Ut,SV)\n",
    "vort_ran[0] = W_d[:,int(XCind[1,0])]"
   ]
  },
  {
   "cell_type": "code",
   "execution_count": 36,
   "metadata": {},
   "outputs": [
    {
     "data": {
      "image/png": "[encoded data removed]",
      "text/plain": [
       "<Figure size 432x288 with 1 Axes>"
      ]
     },
     "metadata": {
      "needs_background": "light"
     },
     "output_type": "display_data"
    }
   ],
   "source": [
    "for i in range(5) : plt.plot(vort_LO[i][504:600])\n",
    "plt.show()"
   ]
  },
  {
   "cell_type": "code",
   "execution_count": null,
   "metadata": {},
   "outputs": [],
   "source": []
  },
  {
   "cell_type": "code",
   "execution_count": 102,
   "metadata": {},
   "outputs": [],
   "source": [
    "from scipy.io import savemat\n",
    "folderpath = r\"ouputs/Aug25/mat_data/vorticity/\"\n",
    "\n",
    "filepath = folderpath + \"vort_ran.mat\"\n",
    "data = {\"vort_ran\":vort_ran,\"rad_a_ran\":a_ran}\n",
    "savemat(filepath,data)\n",
    "\n",
    "filepath = folderpath + \"vort_LO.mat\"\n",
    "data = {\"vort_LO\":vort_LO,\"rad_a_LO\":a_LO}\n",
    "savemat(filepath,data)\n"
   ]
  },
  {
   "cell_type": "markdown",
   "metadata": {},
   "source": [
    "## Lamb Oseen a/b = 0.2 study"
   ]
  },
  {
   "cell_type": "code",
   "execution_count": 203,
   "metadata": {},
   "outputs": [
    {
     "data": {
      "text/plain": [
       "[<matplotlib.lines.Line2D at 0x21201b13488>]"
      ]
     },
     "execution_count": 203,
     "metadata": {},
     "output_type": "execute_result"
    },
    {
     "data": {
      "image/png": "[encoded data removed]",
      "text/plain": [
       "<Figure size 432x288 with 1 Axes>"
      ]
     },
     "metadata": {
      "needs_background": "light"
     },
     "output_type": "display_data"
    }
   ],
   "source": [
    "U = np.copy(SV.U)\n",
    "Uf = rfft2(U)\n",
    "Xc,XCind = vortexPairCenterVortCentroid(Uf,SV)\n",
    "W = vorticity2D(Uf,SV)\n",
    "\n",
    "strain_alt = velGradient(Uf,SV_LO)\n",
    "\n",
    "folderpath = r\"ouputs/Aug25/mat_data/full_data/\"\n",
    "\n",
    "filepath = folderpath + \"vort_LO_rc_0.2_analytical.mat\"\n",
    "data = {\"vort_alt\":W,\"U_alt\":U,\"vort_pos_alt\":XCind,\"strain_alt\":strain_alt}\n",
    "savemat(filepath,data)\n",
    "\n",
    "SV.Mesh[0,1,512]\n",
    "plt.plot(U[0,:,512])\n",
    "\n"
   ]
  },
  {
   "cell_type": "code",
   "execution_count": 248,
   "metadata": {},
   "outputs": [],
   "source": [
    "filepath = r\"ouputs/Aug25/full_data/data_rc_0.2_Re_3142_LO_L12_1024.pkl\"\n",
    "infile = open(filepath,'rb')\n",
    "SV_LO  = pickle.load(infile)\n",
    "CBV_LO  = pickle.load(infile)\n",
    "infile.close()\n"
   ]
  },
  {
   "cell_type": "code",
   "execution_count": 311,
   "metadata": {},
   "outputs": [
    {
     "data": {
      "text/plain": [
       "array([[5.49810995, 6.5017916 ],\n",
       "       [6.04432062, 6.04431564]])"
      ]
     },
     "execution_count": 311,
     "metadata": {},
     "output_type": "execute_result"
    }
   ],
   "source": [
    "Nt = -1\n",
    "# Ut = SV.Ut[:,:,:,Nt]\n",
    "U = SV_LO.Ut[:,:,:,-1] \n",
    "Uf = rfft2(U)\n",
    "Xc,XCind = vortexPairCenterVortCentroid(Uf,SV_LO)\n",
    "W = vorticity2D(Uf,SV_LO)\n",
    "W[:,int(XCind[1,0])]\n",
    "strain_sim = velGradient(Uf,SV_LO)\n",
    "\n",
    "# folderpath = r\"ouputs/Aug25/mat_data/full_data/\"\n",
    "\n",
    "# filepath = folderpath + \"vort_LO_rc_0.2_sim.mat\"\n",
    "# data = {\"vort_sim\":W,\"U_sim\":U,\"vort_pos_sim\":XCind,\"strain_sim\":strain_sim}\n",
    "\n",
    "\n",
    "# savemat(filepath,data)\n",
    "\n",
    "Xc"
   ]
  },
  {
   "cell_type": "code",
   "execution_count": 321,
   "metadata": {},
   "outputs": [
    {
     "data": {
      "application/vnd.jupyter.widget-view+json": {
       "model_id": "369b9e797e4b40afb43efb6924ad492a",
       "version_major": 2,
       "version_minor": 0
      },
      "text/plain": [
       "Canvas(toolbar=Toolbar(toolitems=[('Home', 'Reset original view', 'home', 'home'), ('Back', 'Back to previous …"
      ]
     },
     "metadata": {},
     "output_type": "display_data"
    },
    {
     "data": {
      "text/plain": [
       "5.49609375"
      ]
     },
     "execution_count": 321,
     "metadata": {},
     "output_type": "execute_result"
    }
   ],
   "source": [
    "# plt.plot(U[0,:,516-1])\n",
    "%matplotlib widget\n",
    "N = 1024\n",
    "# x = np.linspace(0,12,N)\n",
    "# y = np.ones(x.shape)*6.0443156\n",
    "y = np.linspace(0,12,N)\n",
    "x = np.ones(x.shape)*6.5017916\n",
    "U_int = np.zeros(x.shape)\n",
    "U_alt_int = np.zeros(x.shape)\n",
    "\n",
    "for i in range(N):\n",
    "    U_int[i]     = interpolate(x[i],y[i],U[1],SV_LO)\n",
    "    U_alt_int[i] = interpolate(x[i],y[i],U_alt[1],SV)\n",
    "    \n",
    "    \n",
    "plt.rcParams['font.size'] = '16'    \n",
    "plt.plot(SV.Mesh[0,300:700,1],U_int[300+4:700+4])\n",
    "plt.plot(SV.Mesh[0,300:700,1],U_alt_int[300:700])\n",
    "plt.xlabel('$y/b$',fontsize=18)\n",
    "plt.ylabel('$v$ velocity',fontsize=18,**{'fontname':'Helvetica'})\n",
    "plt.legend(['Simulated','Analytical'])\n",
    "# plt.hlines(0,0,12)\n",
    "# plt.show()\n",
    "plt.savefig(\"ouputs/Aug25/plots/LO_sim_alt_ay_vvel.png\", facecolor='none', bbox_inches=\"tight\",\n",
    "            pad_inches=0.05, transparent=True, dpi=300)\n",
    "\n",
    "\n",
    "SV.Mesh[0,469,1]"
   ]
  },
  {
   "cell_type": "code",
   "execution_count": 377,
   "metadata": {},
   "outputs": [
    {
     "data": {
      "application/vnd.jupyter.widget-view+json": {
       "model_id": "dab6e06e47d24d71907d229f6a74b22d",
       "version_major": 2,
       "version_minor": 0
      },
      "text/plain": [
       "Canvas(toolbar=Toolbar(toolitems=[('Home', 'Reset original view', 'home', 'home'), ('Back', 'Back to previous …"
      ]
     },
     "metadata": {},
     "output_type": "display_data"
    },
    {
     "data": {
      "text/plain": [
       "<matplotlib.legend.Legend at 0x21225d01548>"
      ]
     },
     "execution_count": 377,
     "metadata": {},
     "output_type": "execute_result"
    }
   ],
   "source": [
    "# plt.plot(U[0,:,516-1])\n",
    "%matplotlib widget\n",
    "N = 1024\n",
    "# x = np.linspace(0,12,N)\n",
    "# y = np.ones(x.shape)*6.0443156\n",
    "# y2 = np.ones(x.shape)*6.0\n",
    "y = np.linspace(0,12,N)\n",
    "y2 = y\n",
    "x = np.ones(x.shape)*6.5017916\n",
    "x2 = np.ones(x.shape)*6.5002051\n",
    "\n",
    "U = SV_LO.Ut[:,:,:,-1] \n",
    "Uf = rfft2(U)\n",
    "W_sim = vorticity2D(Uf,SV_LO)\n",
    "\n",
    "U_alt = np.copy(SV.U)\n",
    "Uf = rfft2(U_alt)\n",
    "W_alt = vorticity2D(Uf,SV)\n",
    "\n",
    "W_int = np.zeros(x.shape)\n",
    "W_alt_int = np.zeros(x.shape)\n",
    "\n",
    "for i in range(N):\n",
    "    W_int[i]     = interpolate(x[i],y[i], W_sim,SV_LO)\n",
    "    W_alt_int[i] = interpolate(x2[i],y2[i],W_alt,SV)\n",
    "    \n",
    "    \n",
    "plt.rcParams['font.size'] = '16'    \n",
    "plt.plot(SV.Mesh[1,1,400:624],    W_int[400+4:624+4])\n",
    "plt.plot(SV.Mesh[1,1,400:624],W_alt_int[400:624])\n",
    "plt.xlabel('$y/b$',fontsize=18)\n",
    "plt.ylabel('vorticity',fontsize=18,**{'fontname':'Helvetica'})\n",
    "plt.legend(['Simulated','Analytical'])\n",
    "# plt.hlines(0,0,12)\n",
    "# plt.show()\n",
    "# plt.savefig(\"ouputs/Aug25/plots/LO_sim_alt_ay_vort.png\", facecolor='none', bbox_inches=\"tight\",\n",
    "#             pad_inches=0.05, transparent=True, dpi=300)\n",
    "\n",
    "\n"
   ]
  },
  {
   "cell_type": "code",
   "execution_count": 384,
   "metadata": {},
   "outputs": [
    {
     "data": {
      "application/vnd.jupyter.widget-view+json": {
       "model_id": "fec75f7c451e4b79af4cddaaffb94d9c",
       "version_major": 2,
       "version_minor": 0
      },
      "text/plain": [
       "Canvas(toolbar=Toolbar(toolitems=[('Home', 'Reset original view', 'home', 'home'), ('Back', 'Back to previous …"
      ]
     },
     "metadata": {},
     "output_type": "display_data"
    }
   ],
   "source": [
    "# x = np.linspace(0,12,N)\n",
    "# y = np.ones(x.shape)*6.0443156\n",
    "# y2 = np.ones(x.shape)*6.0\n",
    "y = np.linspace(0,12,N)\n",
    "y2 = y\n",
    "x = np.ones(x.shape)*6.5017916\n",
    "x2 = np.ones(x.shape)*6.5002051\n",
    "\n",
    "U = SV_LO.Ut[:,:,:,-1] \n",
    "Uf = rfft2(U)\n",
    "strain_sim = velGradient(Uf,SV_LO)\n",
    "\n",
    "U_alt = np.copy(SV.U)\n",
    "Uf = rfft2(U_alt)\n",
    "strain_alt = velGradient(Uf,SV)\n",
    "\n",
    "strain_sim_int = np.zeros((4,N))\n",
    "strain_alt_int = np.zeros((4,N))\n",
    "\n",
    "for i in range(N):\n",
    "    strain_sim_int[0,i]  = interpolate(x[i],y[i], strain_sim[0],SV_LO)\n",
    "    strain_sim_int[1,i]  = interpolate(x[i],y[i], strain_sim[1],SV_LO)\n",
    "    strain_sim_int[2,i]  = interpolate(x[i],y[i], strain_sim[2],SV_LO)\n",
    "    strain_sim_int[3,i]  = interpolate(x[i],y[i], strain_sim[3],SV_LO)\n",
    "    \n",
    "    strain_alt_int[0,i]  = interpolate(x2[i],y2[i], strain_alt[0],SV)\n",
    "    strain_alt_int[1,i]  = interpolate(x2[i],y2[i], strain_alt[1],SV)\n",
    "    strain_alt_int[2,i]  = interpolate(x2[i],y2[i], strain_alt[2],SV)\n",
    "    strain_alt_int[3,i]  = interpolate(x2[i],y2[i], strain_alt[3],SV)\n",
    "\n",
    "\n",
    "plt.rcParams['font.size'] = '12'   \n",
    "fig = plt.figure()\n",
    "gs = fig.add_gridspec(2,2)\n",
    "axs = gs.subplots(sharex = True,sharey=True)\n",
    "# fig.suptitle('Sharing both axes')\n",
    "axs[0,0].plot(y[400:624],strain_sim_int[0][400+4:624+4],y2[400:624],strain_alt_int[0][400:624])\n",
    "axs[0,0].set_ylabel('$du/dx$')\n",
    "axs[0,1].plot(y[400:624],strain_sim_int[1][400+4:624+4],y2[400:624],strain_alt_int[1][400:624])\n",
    "axs[0,1].set_ylabel('$du/dy$')\n",
    "axs[1,0].plot(y[400:624],strain_sim_int[2][400+4:624+4],y2[400:624],strain_alt_int[2][400:624])\n",
    "axs[1,0].set_ylabel('$dv/dx$')\n",
    "axs[1,0].set_xlabel('$y/b$')\n",
    "axs[1,1].plot(y[400:624],strain_sim_int[3][400+4:624+4],y2[400:624],strain_alt_int[3][400:624])\n",
    "axs[1,1].set_ylabel('$dv/dy$')\n",
    "axs[1,1].set_xlabel('$y/b$')\n",
    "plt.legend(['Simulated','Analytical'])\n",
    "\n",
    "plt.savefig(\"ouputs/Aug25/plots/LO_sim_alt_ay_strain.png\", facecolor='none', bbox_inches=\"tight\",\n",
    "            pad_inches=0.05, transparent=True, dpi=300)\n",
    "\n",
    "\n",
    "# Hide x labels and tick labels for all but bottom plot.\n",
    "# for ax in axs.flat:\n",
    "#     ax.label_outer()\n"
   ]
  },
  {
   "cell_type": "code",
   "execution_count": 38,
   "metadata": {},
   "outputs": [
    {
     "data": {
      "application/vnd.jupyter.widget-view+json": {
       "model_id": "ad09a16e36654954a8e20c0badece1f9",
       "version_major": 2,
       "version_minor": 0
      },
      "text/plain": [
       "Canvas(toolbar=Toolbar(toolitems=[('Home', 'Reset original view', 'home', 'home'), ('Back', 'Back to previous …"
      ]
     },
     "metadata": {},
     "output_type": "display_data"
    }
   ],
   "source": [
    "%matplotlib widget\n",
    "\n",
    "L = 5\n",
    "x = np.linspace(0,L,101)+1e-16 \n",
    "xc = L/2\n",
    "\n",
    "v = (x-xc)*(1-exp(-(x-xc)**2/0.04))/((x-xc)**2) # single vortex at the center of the domain\n",
    "  + (x-xc-L)*(1-exp(-(x-xc-L)**2/0.04))/((x-xc-L)**2) +(x-xc+L)*(1-exp(-(x-xc+L)**2/0.04))/((x-xc+L)**2)\\  # vortices at L = -2.5 and L = 7.5\n",
    "  + (x-xc-2*L)*(1-exp(-(x-xc-2*L)**2/0.04))/((x-xc-2*L)**2)+(x-xc+2*L)*(1-exp(-(x-xc+2*L)**2/0.04))/((x-xc+2*L)**2) # vortices at L = -7.5 and L = 12.5\n",
    "\n",
    "plt.rcParams['font.size'] = '12'   \n",
    "plt.plot(x,v)\n",
    "plt.hlines(0,0,5,'r',linestyle='--')\n",
    "plt.xlabel(\"x\")\n",
    "plt.ylabel(\"tangential velocity\")\n",
    "plt.show()"
   ]
  },
  {
   "cell_type": "code",
   "execution_count": 88,
   "metadata": {},
   "outputs": [
    {
     "data": {
      "application/vnd.jupyter.widget-view+json": {
       "model_id": "b4d142b62fc643caa625efc71521b1a3",
       "version_major": 2,
       "version_minor": 0
      },
      "text/plain": [
       "Canvas(toolbar=Toolbar(toolitems=[('Home', 'Reset original view', 'home', 'home'), ('Back', 'Back to previous …"
      ]
     },
     "metadata": {},
     "output_type": "display_data"
    },
    {
     "data": {
      "text/plain": [
       "<mpl_toolkits.mplot3d.art3d.Poly3DCollection at 0x2361c797108>"
      ]
     },
     "execution_count": 88,
     "metadata": {},
     "output_type": "execute_result"
    }
   ],
   "source": [
    "%matplotlib widget\n",
    "from mpl_toolkits import mplot3d\n",
    "xL,xR = 0,6\n",
    "x = np.linspace(xL,xR,100)\n",
    "y = x.copy()\n",
    "\n",
    "X,Y = np.meshgrid(x,y,indexing='ij')\n",
    "\n",
    "a = 1.05\n",
    "n = 27\n",
    "wx = 10**(-a**n*np.abs(2*(X-xL)/(xR-xL)-1)**n)\n",
    "wy = 10**(-a**n*np.abs(2*(Y-xL)/(xR-xL)-1)**n)\n",
    "w = wx*wy\n",
    "\n",
    "fig, ax = plt.subplots(subplot_kw={\"projection\": \"3d\"})\n",
    "\n",
    "ax.plot_surface(X,Y,w)\n",
    "# plt.plot(x,wy[1,:])"
   ]
  }
 ],
 "metadata": {
  "kernelspec": {
   "display_name": "Python 3 (ipykernel)",
   "language": "python",
   "name": "python3"
  },
  "language_info": {
   "codemirror_mode": {
    "name": "ipython",
    "version": 3
   },
   "file_extension": ".py",
   "mimetype": "text/x-python",
   "name": "python",
   "nbconvert_exporter": "python",
   "pygments_lexer": "ipython3",
   "version": "3.7.9"
  }
 },
 "nbformat": 4,
 "nbformat_minor": 4
}
